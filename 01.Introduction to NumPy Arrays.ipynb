{
 "cells": [
  {
   "cell_type": "markdown",
   "metadata": {},
   "source": [
    "# NumPy N-dimensional Array"
   ]
  },
  {
   "cell_type": "code",
   "execution_count": 10,
   "metadata": {
    "collapsed": true
   },
   "outputs": [],
   "source": [
    "#create array\n",
    "from numpy import array"
   ]
  },
  {
   "cell_type": "code",
   "execution_count": 5,
   "metadata": {
    "collapsed": true
   },
   "outputs": [],
   "source": [
    "#create array\n",
    "l=[1.0,2.0,3.0]\n",
    "a = array(l)"
   ]
  },
  {
   "cell_type": "code",
   "execution_count": 6,
   "metadata": {},
   "outputs": [
    {
     "name": "stdout",
     "output_type": "stream",
     "text": [
      "[1. 2. 3.]\n"
     ]
    }
   ],
   "source": [
    "#display array\n",
    "print(a)"
   ]
  },
  {
   "cell_type": "code",
   "execution_count": 7,
   "metadata": {},
   "outputs": [
    {
     "name": "stdout",
     "output_type": "stream",
     "text": [
      "(3,)\n"
     ]
    }
   ],
   "source": [
    "#display array shape\n",
    "print(a.shape)"
   ]
  },
  {
   "cell_type": "code",
   "execution_count": 8,
   "metadata": {},
   "outputs": [
    {
     "name": "stdout",
     "output_type": "stream",
     "text": [
      "float64\n"
     ]
    }
   ],
   "source": [
    "#display array data type\n",
    "print(a.dtype)"
   ]
  },
  {
   "cell_type": "markdown",
   "metadata": {},
   "source": [
    "# Functions to Create Arrays"
   ]
  },
  {
   "cell_type": "markdown",
   "metadata": {},
   "source": [
    "<b>Empty:</b> The empty() function will create a new array of the specied shape. The argument to the function is an array or tuple that specifies the length of each dimension of the array to create. The values or content of the created array will be random and will need to be assigned before use. The example below creates an empty 3 x 3 two-dimensional array."
   ]
  },
  {
   "cell_type": "code",
   "execution_count": 13,
   "metadata": {},
   "outputs": [
    {
     "name": "stdout",
     "output_type": "stream",
     "text": [
      "[[1.28012640e-152 9.13616837e+242 1.38759998e+219]\n",
      " [2.46295242e+198 9.32223636e+218 2.17235218e-153]\n",
      " [2.64070768e-061 8.82069537e+199 5.49973442e+303]]\n"
     ]
    }
   ],
   "source": [
    "#create empty array\n",
    "from numpy import empty\n",
    "a = empty([3,3])\n",
    "print(a)"
   ]
  },
  {
   "cell_type": "markdown",
   "metadata": {},
   "source": [
    "<b>Zeros:</b> The zeros() function will create a new array of the specied size with the contents filled with zero values. The argument to the function is an array or tuple that specifies the length of each dimension of the array to create. The example below creates a 3 x 5 zero two-dimensional array."
   ]
  },
  {
   "cell_type": "code",
   "execution_count": 14,
   "metadata": {},
   "outputs": [
    {
     "name": "stdout",
     "output_type": "stream",
     "text": [
      "[[0. 0. 0. 0. 0.]\n",
      " [0. 0. 0. 0. 0.]\n",
      " [0. 0. 0. 0. 0.]]\n"
     ]
    }
   ],
   "source": [
    "#create zeros array\n",
    "from numpy import zeros\n",
    "a = zeros([3,5])\n",
    "print(a)"
   ]
  },
  {
   "cell_type": "markdown",
   "metadata": {},
   "source": [
    "<b>Ones:</b> The ones() function will create a new array of the specified size with the contents filled with\n",
    "one values. The argument to the function is an array or tuple that specifies the length of each\n",
    "dimension of the array to create. The example below creates a 5-element one-dimensional array."
   ]
  },
  {
   "cell_type": "code",
   "execution_count": 16,
   "metadata": {},
   "outputs": [
    {
     "name": "stdout",
     "output_type": "stream",
     "text": [
      "[1. 1. 1. 1. 1.]\n"
     ]
    }
   ],
   "source": [
    "#create ones array\n",
    "from numpy import ones\n",
    "a = ones([5])\n",
    "print(a)"
   ]
  },
  {
   "cell_type": "markdown",
   "metadata": {},
   "source": [
    "# Combining Arrays"
   ]
  },
  {
   "cell_type": "markdown",
   "metadata": {},
   "source": [
    "<b>Vertical Stack:</b> Given two or more existing arrays, you can stack them vertically using the vstack() function. For example,given two one-dimensional arrays, you can create a new two-dimensional array with two rows by vertically stacking them. This is demonstrated in the example below. "
   ]
  },
  {
   "cell_type": "code",
   "execution_count": 18,
   "metadata": {},
   "outputs": [
    {
     "name": "stdout",
     "output_type": "stream",
     "text": [
      "[1 2 3]\n",
      "[4 5 6]\n",
      "[[1 2 3]\n",
      " [4 5 6]]\n",
      "(2, 3)\n"
     ]
    }
   ],
   "source": [
    "# create array with vstack\n",
    "from numpy import array\n",
    "from numpy import vstack\n",
    "#create first array\n",
    "a1 = array([1,2,3])\n",
    "print(a1)\n",
    "#create second array\n",
    "a2 = array([4,5,6])\n",
    "print(a2)\n",
    "#vertical stack\n",
    "a3 = vstack((a1,a2))\n",
    "print(a3)\n",
    "print(a3.shape)\n"
   ]
  },
  {
   "cell_type": "markdown",
   "metadata": {},
   "source": [
    "<b>Horizontal Stack:</b> Given two or more existing arrays, you can stack them horizontally using the hstack() function. For example, given two one-dimensional arrays, you can create a new one-dimensional array or one row with the columns of the first and second arrays concatenated. This is demonstrated in the example below."
   ]
  },
  {
   "cell_type": "code",
   "execution_count": 19,
   "metadata": {},
   "outputs": [
    {
     "name": "stdout",
     "output_type": "stream",
     "text": [
      "[1 2 3]\n",
      "[4 5 6]\n",
      "[1 2 3 4 5 6]\n",
      "(6,)\n"
     ]
    }
   ],
   "source": [
    "# create array with hstack\n",
    "from numpy import array\n",
    "from numpy import hstack\n",
    "#create first array\n",
    "a1 = array([1,2,3])\n",
    "print(a1)\n",
    "#create second array\n",
    "a2 = array([4,5,6])\n",
    "print(a2)\n",
    "#vertical stack\n",
    "a3 = hstack((a1,a2))\n",
    "print(a3)\n",
    "print(a3.shape)"
   ]
  },
  {
   "cell_type": "markdown",
   "metadata": {},
   "source": [
    "# Extensions"
   ]
  },
  {
   "cell_type": "markdown",
   "metadata": {},
   "source": [
    "This section lists some ideas for extending the tutorial that you may wish to explore.\n",
    "<ul>\n",
    "<li>Experiment with the different ways of creating arrays to your own sizes or with new data.</li>\n",
    "<li>Locate and develop an example for 3 additional NumPy functions for creating arrays.</li>\n",
    "<li>Locate and develop an example for 3 additional NumPy functions for combining arrays.</li>\n",
    "</ul>"
   ]
  },
  {
   "cell_type": "markdown",
   "metadata": {},
   "source": [
    "Additional NumPy functions for creating arrays."
   ]
  },
  {
   "cell_type": "markdown",
   "metadata": {},
   "source": [
    "<b>arange:</b> Like the built-in range but returns an ndarray instead of a list."
   ]
  },
  {
   "cell_type": "code",
   "execution_count": 21,
   "metadata": {},
   "outputs": [
    {
     "name": "stdout",
     "output_type": "stream",
     "text": [
      "[ 0  1  2  3  4  5  6  7  8  9 10 11 12 13 14]\n"
     ]
    }
   ],
   "source": [
    "# create array with arange\n",
    "from numpy import arange\n",
    "a = arange(15)\n",
    "print(a)"
   ]
  },
  {
   "cell_type": "markdown",
   "metadata": {},
   "source": [
    "<b>eye or identity:</b> Create a square N x N identity matrix (1’s on the diagonal and 0’s elsewhere)"
   ]
  },
  {
   "cell_type": "code",
   "execution_count": 29,
   "metadata": {},
   "outputs": [
    {
     "name": "stdout",
     "output_type": "stream",
     "text": [
      "[[1. 0. 0. 0. 0.]\n",
      " [0. 1. 0. 0. 0.]\n",
      " [0. 0. 1. 0. 0.]\n",
      " [0. 0. 0. 1. 0.]\n",
      " [0. 0. 0. 0. 1.]]\n"
     ]
    }
   ],
   "source": [
    "# create array with eye\n",
    "from numpy import eye\n",
    "a = eye(5)\n",
    "print(a)"
   ]
  },
  {
   "cell_type": "code",
   "execution_count": 26,
   "metadata": {},
   "outputs": [
    {
     "name": "stdout",
     "output_type": "stream",
     "text": [
      "[[1. 0. 0. 0. 0.]\n",
      " [0. 1. 0. 0. 0.]\n",
      " [0. 0. 1. 0. 0.]\n",
      " [0. 0. 0. 1. 0.]\n",
      " [0. 0. 0. 0. 1.]]\n"
     ]
    }
   ],
   "source": [
    "# create array with identity\n",
    "from numpy import identity\n",
    "a = identity(5)\n",
    "print(a)"
   ]
  },
  {
   "cell_type": "markdown",
   "metadata": {},
   "source": [
    "<b>dstack:</b> Stack arrays in sequence depth wise (along third axis). Takes a sequence of arrays and stack them along the third axis to make a single array. Rebuilds arrays divided by dsplit. This is a simple way to stack 2D arrays (images) into a single 3D array for processing."
   ]
  },
  {
   "cell_type": "code",
   "execution_count": 30,
   "metadata": {},
   "outputs": [
    {
     "name": "stdout",
     "output_type": "stream",
     "text": [
      "[1 2 3]\n",
      "[4 5 6]\n",
      "[[[1 4]\n",
      "  [2 5]\n",
      "  [3 6]]]\n",
      "(1, 3, 2)\n"
     ]
    }
   ],
   "source": [
    "# create array with dstack\n",
    "from numpy import dstack\n",
    "from numpy import array\n",
    "#create first array\n",
    "a1 = array([1,2,3])\n",
    "print(a1)\n",
    "#create second array\n",
    "a2 = array([4,5,6])\n",
    "print(a2)\n",
    "#vertical stack\n",
    "a3 = dstack((a1,a2))\n",
    "print(a3)\n",
    "print(a3.shape)\n"
   ]
  },
  {
   "cell_type": "markdown",
   "metadata": {},
   "source": [
    "<b>concatenate:</b> Join a sequence of arrays along an existing axis."
   ]
  },
  {
   "cell_type": "code",
   "execution_count": 32,
   "metadata": {},
   "outputs": [
    {
     "name": "stdout",
     "output_type": "stream",
     "text": [
      "[[1 2]\n",
      " [3 4]]\n",
      "[[5 6]]\n",
      "[[1 2]\n",
      " [3 4]\n",
      " [5 6]]\n",
      "(3, 2)\n"
     ]
    }
   ],
   "source": [
    "# create array with dstack\n",
    "from numpy import concatenate\n",
    "from numpy import array\n",
    "#create first array\n",
    "a1 = array([[1, 2], [3, 4]])\n",
    "print(a1)\n",
    "#create second array\n",
    "a2 = array([[5, 6]])\n",
    "print(a2)\n",
    "#vertical stack\n",
    "a3 = concatenate((a1,a2))\n",
    "print(a3)\n",
    "print(a3.shape)"
   ]
  },
  {
   "cell_type": "markdown",
   "metadata": {},
   "source": [
    "<b>dsplit:</b> Split array into multiple sub-arrays along the 3rd axis (depth). Please refer to the split documentation. dsplit is equivalent to split with axis=2, the array is always split along the third axis provided the array dimension is greater than or equal to 3."
   ]
  },
  {
   "cell_type": "code",
   "execution_count": 42,
   "metadata": {},
   "outputs": [
    {
     "name": "stdout",
     "output_type": "stream",
     "text": [
      "[[[ 0.  1.  2.  3.]\n",
      "  [ 4.  5.  6.  7.]]\n",
      "\n",
      " [[ 8.  9. 10. 11.]\n",
      "  [12. 13. 14. 15.]]]\n",
      "[array([[[ 0.,  1.],\n",
      "        [ 4.,  5.]],\n",
      "\n",
      "       [[ 8.,  9.],\n",
      "        [12., 13.]]]), array([[[ 2.,  3.],\n",
      "        [ 6.,  7.]],\n",
      "\n",
      "       [[10., 11.],\n",
      "        [14., 15.]]])]\n"
     ]
    }
   ],
   "source": [
    "# create array with dstack\n",
    "from numpy import dsplit\n",
    "from numpy import array\n",
    "from numpy import arange\n",
    "x = arange(16.0).reshape(2, 2, 4)\n",
    "print(x)\n",
    "a1 = dsplit(x, 2)\n",
    "print(a1)"
   ]
  },
  {
   "cell_type": "code",
   "execution_count": 39,
   "metadata": {},
   "outputs": [
    {
     "name": "stdout",
     "output_type": "stream",
     "text": [
      "[array([[[ 0.,  1.],\n",
      "        [ 4.,  5.]],\n",
      "\n",
      "       [[ 8.,  9.],\n",
      "        [12., 13.]]]), array([[[ 2.,  3.],\n",
      "        [ 6.,  7.]],\n",
      "\n",
      "       [[10., 11.],\n",
      "        [14., 15.]]]), array([], shape=(2, 2, 0), dtype=float64)]\n"
     ]
    }
   ],
   "source": [
    "a2 = dsplit(x, array([2, 4]))\n",
    "print(a2)"
   ]
  },
  {
   "cell_type": "code",
   "execution_count": null,
   "metadata": {
    "collapsed": true
   },
   "outputs": [],
   "source": []
  }
 ],
 "metadata": {
  "kernelspec": {
   "display_name": "Python 3",
   "language": "python",
   "name": "python3"
  },
  "language_info": {
   "codemirror_mode": {
    "name": "ipython",
    "version": 3
   },
   "file_extension": ".py",
   "mimetype": "text/x-python",
   "name": "python",
   "nbconvert_exporter": "python",
   "pygments_lexer": "ipython3",
   "version": "3.5.3"
  }
 },
 "nbformat": 4,
 "nbformat_minor": 2
}
