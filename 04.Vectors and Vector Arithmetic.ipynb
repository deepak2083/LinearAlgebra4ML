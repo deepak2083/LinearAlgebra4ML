{
 "cells": [
  {
   "cell_type": "markdown",
   "metadata": {},
   "source": [
    "Vectors are a foundational element of linear algebra. Vectors are used throughout the field of machine learning in the description of algorithms and processes such as the target variable (y) when training an algorithm."
   ]
  },
  {
   "cell_type": "markdown",
   "metadata": {},
   "source": [
    "# 1. What is a Vector?"
   ]
  },
  {
   "cell_type": "markdown",
   "metadata": {},
   "source": [
    "A vector is a tuple of one or more values called scalars. Vectors are often represented using a lowercase character such as v; for example:\n",
    "\\begin{equation*}\n",
    "v =  (v_{1},  v_{2}, v_{3})\n",
    "\\end{equation*}\n",
    "<br>\n",
    "Where $v_{1}$,  $v_{2}$, $v_{3}$ are scalar values, often real values. <br>\n",
    "Vectors are also shown using a vertical representation or a column; for example:<br>\n",
    "\\begin{equation*}\n",
    "v = \\begin{vmatrix}\n",
    "v_{1}  \\\\\n",
    "v_{2} \\\\\n",
    "v_{3}\n",
    "\\end{vmatrix}\n",
    "\\end{equation*}\n",
    "<br>\n",
    "It is common to represent the target variable as a vector with the lowercase y when describing the training of a machine learning algorithm. It is common to introduce vectors using a geometric analogy, where a vector represents a point or coordinate in an n-dimensional space, where n is the number of dimensions, such as 2. The vector can also be thought of as a line from the\n",
    "origin of the vector space with a direction and a magnitude.\n",
    "<br>\n",
    "These analogies are good as a starting point, but should not be held too tightly as we often consider very high dimensional vectors in machine learning. I find the vector-as-coordinate the most compelling analogy in machine learning. Now that we know what a vector is, let's look at how to define a vector in Python."
   ]
  },
  {
   "cell_type": "markdown",
   "metadata": {},
   "source": [
    "# 2. Defining a Vector"
   ]
  },
  {
   "cell_type": "markdown",
   "metadata": {},
   "source": [
    "We can represent a vector in Python as a NumPy array. A NumPy array can be created from a list of numbers. For example, below we de\f",
    "ne a vector with the length of 3 and the integer values 1, 2 and 3."
   ]
  },
  {
   "cell_type": "code",
   "execution_count": 1,
   "metadata": {},
   "outputs": [
    {
     "name": "stdout",
     "output_type": "stream",
     "text": [
      "[1 2 3]\n"
     ]
    }
   ],
   "source": [
    "# create a vector\n",
    "from numpy import array\n",
    "# define vector\n",
    "v = array([1, 2, 3])\n",
    "print(v)"
   ]
  },
  {
   "cell_type": "markdown",
   "metadata": {},
   "source": [
    "# 3. Vector Arithmetic"
   ]
  },
  {
   "cell_type": "markdown",
   "metadata": {},
   "source": [
    "In this section will demonstrate simple vector-vector arithmetic, where all operations are performed element-wise between two vectors of equal length to result in a new vector with the same length"
   ]
  },
  {
   "cell_type": "markdown",
   "metadata": {},
   "source": [
    "<b>Vector Addition:</b> Two vectors of equal length can be added together to create a new third vector.\n",
    "\\begin{equation*}\n",
    "c = a + b\n",
    "\\end{equation*}\n",
    "<br>\n",
    "The new vector has the same length as the other two vectors. Each element of the new vector is calculated as the addition of the elements of the other vectors at the same index; for example:\n",
    "\\begin{equation*}\n",
    "c = (a_{1} + b_{1}, a_{2} + b_{2}, a_{3} + b_{3})\n",
    "\\end{equation*}\n",
    "<br>\n",
    "Or, put another way:\n",
    "\\begin{equation*}\n",
    "c[0] = a[0] + b[0] \\\\\n",
    "c[1] = a[1] + b[1] \\\\\n",
    "c[2] = a[2] + b[2]\n",
    "\\end{equation*}\n",
    "<br>\n",
    "We can add vectors directly in Python by adding NumPy arrays."
   ]
  },
  {
   "cell_type": "code",
   "execution_count": 2,
   "metadata": {},
   "outputs": [
    {
     "name": "stdout",
     "output_type": "stream",
     "text": [
      "[1 2 3]\n",
      "[1 2 3]\n",
      "[2 4 6]\n"
     ]
    }
   ],
   "source": [
    "# vector addition\n",
    "from numpy import array\n",
    "# define first vector\n",
    "a = array([1, 2, 3])\n",
    "print(a)\n",
    "# define second vector\n",
    "b = array([1, 2, 3])\n",
    "print(b)\n",
    "# add vectors\n",
    "c = a + b\n",
    "print(c)"
   ]
  },
  {
   "cell_type": "markdown",
   "metadata": {},
   "source": [
    "<b>Vector Subtraction:</b> One vector can be subtracted from another vector of equal length to create a new third vector.\n",
    "\\begin{equation*}\n",
    "c = a - b\n",
    "\\end{equation*}\n",
    "<br>\n",
    "As with addition, the new vector has the same length as the parent vectors and each element of the new vector is calculated as the subtraction of the elements at the same indices.\n",
    "\\begin{equation*}\n",
    "c = (a_{1} - b_{1}, a_{2} - b_{2}, a_{3} - b_{3})\n",
    "\\end{equation*}\n",
    "<br>\n",
    "Or, put another way:\n",
    "\\begin{equation*}\n",
    "c[0] = a[0] - b[0] \\\\\n",
    "c[1] = a[1] - b[1] \\\\\n",
    "c[2] = a[2] - b[2]\n",
    "\\end{equation*}\n",
    "<br>\n",
    "The NumPy arrays can be directly subtracted in Python."
   ]
  },
  {
   "cell_type": "code",
   "execution_count": 7,
   "metadata": {},
   "outputs": [
    {
     "name": "stdout",
     "output_type": "stream",
     "text": [
      "[1 2 3]\n",
      "[0.5 0.5 0.5]\n",
      "[0.5 1.5 2.5]\n"
     ]
    }
   ],
   "source": [
    "# vector subtraction\n",
    "from numpy import array\n",
    "# define first vector\n",
    "a = array([1, 2, 3])\n",
    "print(a)\n",
    "# define second vector\n",
    "b = array([0.5, 0.5, 0.5])\n",
    "print(b)\n",
    "# subtract vectors\n",
    "c = a - b\n",
    "print(c)"
   ]
  },
  {
   "cell_type": "markdown",
   "metadata": {},
   "source": [
    "<b>Vector Multiplication:</b> Two vectors of equal length can be multiplied together.\n",
    "\\begin{equation*}\n",
    "c = a \\times b\n",
    "\\end{equation*}\n",
    "<br>\n",
    "As with addition and subtraction, this operation is performed element-wise to result in a new vector of the same length.\n",
    "\\begin{equation*}\n",
    "c = (a_{1} \\times b_{1}, a_{2} \\times b_{2}, a_{3} \\times b_{3})\n",
    "\\end{equation*}\n",
    "<br>\n",
    "or\n",
    "\\begin{equation*}\n",
    "c = (a_{1}b_{1}, a_{2}b_{2}, a_{3}b_{3})\n",
    "\\end{equation*}\n",
    "Or, put another way:\n",
    "\\begin{equation*}\n",
    "c[0] = a[0] \\times b[0] \\\\\n",
    "c[1] = a[1] \\times b[1] \\\\\n",
    "c[2] = a[2] \\times b[2]\n",
    "\\end{equation*}\n",
    "<br>\n",
    "We can perform this operation directly in NumPy."
   ]
  },
  {
   "cell_type": "code",
   "execution_count": 4,
   "metadata": {},
   "outputs": [
    {
     "name": "stdout",
     "output_type": "stream",
     "text": [
      "[1 2 3]\n",
      "[1 2 3]\n",
      "[1 4 9]\n"
     ]
    }
   ],
   "source": [
    "# vector multiplication\n",
    "from numpy import array\n",
    "# define first vector\n",
    "a = array([1, 2, 3])\n",
    "print(a)\n",
    "# define second vector\n",
    "b = array([1, 2, 3])\n",
    "print(b)\n",
    "# multiply vectors\n",
    "c = a * b\n",
    "print(c)"
   ]
  },
  {
   "cell_type": "markdown",
   "metadata": {},
   "source": [
    "<b>Vector Division:</b> Two vectors of equal length can be divided.\n",
    "\\begin{equation*}\n",
    "c = \\frac{a}{b}\n",
    "\\end{equation*}\n",
    "<br>\n",
    "As with other arithmetic operations, this operation is performed element-wise to result in a new vector of the same length.\n",
    "\\begin{equation*}\n",
    "c = (\\frac{a_{1}}{b_{1}}, \\frac{a_{2}}{b_{2}}, \\frac{a_{3}}{b_{3}})\n",
    "\\end{equation*}\n",
    "<br>\n",
    "Or, put another way:\n",
    "\\begin{equation*}\n",
    "c[0] = a[0] / b[0] \\\\\n",
    "c[1] = a[1] / b[1] \\\\\n",
    "c[2] = a[2] / b[2]\n",
    "\\end{equation*}\n",
    "<br>\n",
    "We can perform this operation directly in NumPy."
   ]
  },
  {
   "cell_type": "code",
   "execution_count": 6,
   "metadata": {},
   "outputs": [
    {
     "name": "stdout",
     "output_type": "stream",
     "text": [
      "[1 2 3]\n",
      "[1 2 3]\n",
      "[1. 1. 1.]\n"
     ]
    }
   ],
   "source": [
    "# vector division\n",
    "from numpy import array\n",
    "# define first vector\n",
    "a = array([1, 2, 3])\n",
    "print(a)\n",
    "# define second vector\n",
    "b = array([1, 2, 3])\n",
    "print(b)\n",
    "# divide vectors\n",
    "c = a / b\n",
    "print(c)"
   ]
  },
  {
   "cell_type": "markdown",
   "metadata": {},
   "source": [
    "<b>Vector Dot Product:</b> We can calculate the sum of the multiplied elements of two vectors of the same length to give a\n",
    "scalar. This is called the dot product, named because of the dot operator used when describing the operation.\n",
    "\\begin{equation*}\n",
    "c = a \\cdot b\n",
    "\\end{equation*}\n",
    "<br>\n",
    "The operation can be used in machine learning to calculate the weighted sum of a vector. <br>\n",
    "The dot product is calculated as follows:\n",
    "\\begin{equation*}\n",
    "c = (a_{1} \\times b_{1} + a_{2} \\times b_{2} + a_{3} \\times b_{3})\n",
    "\\end{equation*}\n",
    "<br>\n",
    "or \\begin{equation*}\n",
    "c = (a_{1}b_{1} + a_{2}b_{2} + a_{3}b_{3})\n",
    "\\end{equation*}\n",
    "<br>\n",
    "We can calculate the dot product between two vectors in Python using the *dot()* function on a NumPy array."
   ]
  },
  {
   "cell_type": "code",
   "execution_count": 8,
   "metadata": {},
   "outputs": [
    {
     "name": "stdout",
     "output_type": "stream",
     "text": [
      "[1 2 3]\n",
      "[1 2 3]\n",
      "14\n"
     ]
    }
   ],
   "source": [
    "# vector dot product\n",
    "from numpy import array\n",
    "# define first vector\n",
    "a = array([1, 2, 3])\n",
    "print(a)\n",
    "# define second vector\n",
    "b = array([1, 2, 3])\n",
    "print(b)\n",
    "# multiply vectors\n",
    "c = a.dot(b)\n",
    "print(c)"
   ]
  },
  {
   "cell_type": "markdown",
   "metadata": {},
   "source": [
    "<b>Vector-Scalar Multiplication:</b> A vector can be multiplied by a scalar, in effect scaling the magnitude of the vector. To keep notation simple, we will use lowercase s to represent the scalar value.\n",
    "\\begin{equation*}\n",
    "c = s \\times v\n",
    "\\end{equation*}\n",
    "<br>\n",
    "or \\begin{equation*}\n",
    "c = sv\n",
    "\\end{equation*}\n",
    "The multiplication is performed on each element of the vector to result in a new scaled vector of the same length.\n",
    "\\begin{equation*}\n",
    "c = (s \\times v_{1}, s \\times v_{2}, s \\times v_{3})\n",
    "\\end{equation*}\n",
    "<br>\n",
    "Or, put another way: \\begin{equation*}\n",
    "c[0] = v[0] \\times s \\\\\n",
    "c[1] = v[1] \\times s \\\\\n",
    "c[2] = v[2] \\times s\n",
    "\\end{equation*}\n",
    "<br>\n",
    "We can perform this operation directly with the NumPy array."
   ]
  },
  {
   "cell_type": "code",
   "execution_count": 9,
   "metadata": {},
   "outputs": [
    {
     "name": "stdout",
     "output_type": "stream",
     "text": [
      "[1 2 3]\n",
      "0.5\n",
      "[0.5 1.  1.5]\n"
     ]
    }
   ],
   "source": [
    "# vector-scalar multiplication\n",
    "from numpy import array\n",
    "# define vector\n",
    "a = array([1, 2, 3])\n",
    "print(a)\n",
    "# define scalar\n",
    "s = 0.5\n",
    "print(s)\n",
    "# multiplication\n",
    "c = s * a\n",
    "print(c)"
   ]
  },
  {
   "cell_type": "markdown",
   "metadata": {},
   "source": [
    "Similarly, vector-scalar addition, subtraction, and division can be performed in the same way."
   ]
  }
 ],
 "metadata": {
  "kernelspec": {
   "display_name": "Python 3",
   "language": "python",
   "name": "python3"
  },
  "language_info": {
   "codemirror_mode": {
    "name": "ipython",
    "version": 3
   },
   "file_extension": ".py",
   "mimetype": "text/x-python",
   "name": "python",
   "nbconvert_exporter": "python",
   "pygments_lexer": "ipython3",
   "version": "3.5.3"
  }
 },
 "nbformat": 4,
 "nbformat_minor": 2
}
