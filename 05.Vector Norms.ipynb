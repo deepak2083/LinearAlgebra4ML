{
 "cells": [
  {
   "cell_type": "markdown",
   "metadata": {},
   "source": [
    "Calculating the length or magnitude of vectors is often required either directly as a regularization method in machine learning, or as part of broader vector or matrix operations."
   ]
  },
  {
   "cell_type": "markdown",
   "metadata": {},
   "source": [
    "# 1. Vector Norm"
   ]
  },
  {
   "cell_type": "markdown",
   "metadata": {},
   "source": [
    "Calculating the size or length of a vector is often required either directly or as part of a broader vector or vector-matrix operation. The length of the vector is referred to as the vector norm or the vector's magnitude."
   ]
  },
  {
   "cell_type": "markdown",
   "metadata": {},
   "source": [
    "The length of the vector is always a positive number, except for a vector of all zero values. It is calculated using some measure that summarizes the distance of the vector from the origin of the vector space. For example, the origin of a vector space for a vector with 3 elements is (0; 0; 0). Notations are used to represent the vector norm in broader calculations and the type of vector norm calculation almost always has its own unique notation."
   ]
  },
  {
   "cell_type": "markdown",
   "metadata": {},
   "source": [
    "# 2. Vector $L^{1}$ Norm"
   ]
  },
  {
   "cell_type": "markdown",
   "metadata": {},
   "source": [
    "The length of a vector can be calculated using the $L^{1}$ norm, where the 1 is a superscript of the L. The notation for the $L^{1}$ norm of a vector is $\\|v\\|_{1}$, where 1 is a subscript. As such, this length is sometimes called the taxicab norm or the Manhattan norm.\n",
    "\\begin{equation*}\n",
    "L^{1}(v) = \\|v\\|_{1}\n",
    "\\end{equation*}\n",
    "<br>\n",
    "The $L^{1}$ norm is calculated as the sum of the absolute vector values, where the absolute value of a scalar uses the notation $|a_{1}|$. In effect, the norm is a calculation of the Manhattan distance from the origin of the vector space. <br>\n",
    "\\begin{equation*}\n",
    "\\|v\\|_{1} = |a_{1}| + |a_{2}| + |a_{3}|\n",
    "\\end{equation*}\n",
    "<br>\n",
    "The $L^{1}$ norm of a vector can be calculated in NumPy using the norm() function with a parameter to specify the norm order, in this case 1. The $L^{1}$ norm is often used when fitting machine learning algorithms as a regularization method, e.g. a method to keep the coefficients of the model small, and in turn, the model less complex."
   ]
  },
  {
   "cell_type": "code",
   "execution_count": 1,
   "metadata": {},
   "outputs": [
    {
     "name": "stdout",
     "output_type": "stream",
     "text": [
      "[1 2 3]\n",
      "6.0\n"
     ]
    }
   ],
   "source": [
    "# vector L1 norm\n",
    "from numpy import array\n",
    "from numpy.linalg import norm\n",
    "# define vector\n",
    "a = array([1, 2, 3])\n",
    "print(a)\n",
    "# calculate norm\n",
    "l1 = norm(a, 1)\n",
    "print(l1)"
   ]
  },
  {
   "cell_type": "markdown",
   "metadata": {},
   "source": [
    "# 3. Vector $L^{2}$ Norm"
   ]
  },
  {
   "cell_type": "markdown",
   "metadata": {},
   "source": [
    "The length of a vector can be calculated using the $L^{2}$ norm, where the 2 is a superscript of the L. The notation for the $L^{2}$ norm of a vector is $\\|v\\|_{2}$ where 2 is a subscript.\n",
    "\\begin{equation*}\n",
    "L^{2}(v) = \\|v\\|_{2}\n",
    "\\end{equation*}\n",
    "<br>\n",
    "The $L^{2}$ norm calculates the distance of the vector coordinate from the origin of the vector space. As such, it is also known as the Euclidean norm as it is calculated as the Euclidean distance from the origin. The result is a positive distance value. The $L^{2}$ norm is calculated as the square root of the sum of the squared vector values.\n",
    "\\begin{equation*}\n",
    " \\|v\\|_{2} = \\sqrt{a_{1}^{2} + a_{2}^{2} + a_{3}^{2}}\n",
    "\\end{equation*}\n",
    "<br>\n",
    "The $L^{2}$ norm of a vector can be calculated in NumPy using the *norm()* function with default parameters."
   ]
  },
  {
   "cell_type": "code",
   "execution_count": 2,
   "metadata": {},
   "outputs": [
    {
     "name": "stdout",
     "output_type": "stream",
     "text": [
      "[1 2 3]\n",
      "3.7416573867739413\n"
     ]
    }
   ],
   "source": [
    "# vector L2 norm\n",
    "from numpy import array\n",
    "from numpy.linalg import norm\n",
    "# define vector\n",
    "a = array([1, 2, 3])\n",
    "print(a)\n",
    "# calculate norm\n",
    "l2 = norm(a)\n",
    "print(l2)"
   ]
  },
  {
   "cell_type": "markdown",
   "metadata": {},
   "source": [
    "Like the $L^{1}$ norm, the $L^{2}$ norm is often used when fitting machine learning algorithms as a regularization method, e.g. a method to keep the coefficients of the model small and, in turn, the model less complex. By far, the L2 norm is more commonly used than other vector norms in machine learning."
   ]
  },
  {
   "cell_type": "markdown",
   "metadata": {},
   "source": [
    "# 4. Vector Max Norm"
   ]
  },
  {
   "cell_type": "markdown",
   "metadata": {},
   "source": [
    "The length of a vector can be calculated using the maximum norm, also called max norm. Max norm of a vector is referred to as $L^{inf}$ where inf is a superscript and can be represented with the infinity symbol. The notation for max norm is $\\|v\\|_{inf}$ , where inf is a subscript.\n",
    "\\begin{equation*}\n",
    "L^{inf}(v) = \\|v\\|_{inf}\n",
    "\\end{equation*}\n",
    "<br>\n",
    "The max norm is calculated as returning the maximum value of the vector, hence the name.\n",
    "<br>\n",
    "\\begin{equation*}\n",
    "\\|v\\|_{inf} = \\max a_{1}, a_{2}, a_{3}\n",
    "\\end{equation*}\n",
    "<br>\n",
    "The max norm of a vector can be calculated in NumPy using the *norm()* function with the order parameter set to inf."
   ]
  },
  {
   "cell_type": "code",
   "execution_count": null,
   "metadata": {
    "collapsed": true
   },
   "outputs": [],
   "source": []
  }
 ],
 "metadata": {
  "kernelspec": {
   "display_name": "Python 3",
   "language": "python",
   "name": "python3"
  },
  "language_info": {
   "codemirror_mode": {
    "name": "ipython",
    "version": 3
   },
   "file_extension": ".py",
   "mimetype": "text/x-python",
   "name": "python",
   "nbconvert_exporter": "python",
   "pygments_lexer": "ipython3",
   "version": "3.5.3"
  }
 },
 "nbformat": 4,
 "nbformat_minor": 2
}
