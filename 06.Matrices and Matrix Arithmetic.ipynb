{
 "cells": [
  {
   "cell_type": "markdown",
   "metadata": {},
   "source": [
    "Matrices are a foundational element of linear algebra. Matrices are used throughout the field of machine learning in the description of algorithms and processes such as the input data variable (X) when training an algorithm."
   ]
  },
  {
   "cell_type": "markdown",
   "metadata": {
    "collapsed": true
   },
   "source": [
    "# 1. What is a Matrix?"
   ]
  },
  {
   "cell_type": "markdown",
   "metadata": {},
   "source": [
    "A matrix is a two-dimensional array of scalars with one or more columns and one or more rows.\n",
    "<br>\n",
    "The notation for a matrix is often an uppercase letter, such as A, and entries are referred to by their two-dimensional subscript of row (i) and column (j), such as $a_{i,j}$ . For example, we can define a 3-row, 2-column matrix:\n",
    "\\begin{equation*}\n",
    "A = ((a_{1,1},a_{1,2}), (a_{2,1},a_{2,2}) , (a_{3,1},a_{3,2}))\n",
    "\\end{equation*}\n",
    "<br>\n",
    "It is more common to see matrices defined using a horizontal notation.\n",
    "\\begin{equation*}\n",
    "A =  \\begin{vmatrix}\n",
    "a_{1,1} & a_{1,2} \\\\\n",
    "a_{2,1} &  a_{2,2} \\\\\n",
    "a_{3,1} &  a_{3,2}\n",
    "\\end{vmatrix}\n",
    "\\end{equation*}\n",
    "<br>\n",
    "A likely first place you may encounter a matrix in machine learning is in model training data comprised of many rows and columns and often represented using the capital letter X. The geometric analogy used to help understand vectors and some of their operations does not hold with matrices. Further, a vector itself may be considered a matrix with one column and multiple rows. Often the dimensions of the matrix are denoted as m and n or $m \\times n$ for the number of rows and the number of columns respectively."
   ]
  },
  {
   "cell_type": "markdown",
   "metadata": {},
   "source": [
    "# 2. Defining a Matrix"
   ]
  },
  {
   "cell_type": "markdown",
   "metadata": {},
   "source": [
    "We can represent a matrix in Python using a two-dimensional NumPy array. A NumPy array can be constructed given a list of lists. For example, below is a 2 row, 3 column matrix."
   ]
  },
  {
   "cell_type": "code",
   "execution_count": 1,
   "metadata": {},
   "outputs": [
    {
     "name": "stdout",
     "output_type": "stream",
     "text": [
      "[[1 2 3]\n",
      " [4 5 6]]\n"
     ]
    }
   ],
   "source": [
    "# create matrix\n",
    "from numpy import array\n",
    "A = array([[1, 2, 3], [4, 5, 6]])\n",
    "print(A)"
   ]
  },
  {
   "cell_type": "markdown",
   "metadata": {},
   "source": [
    "# 3. Matrix Arithmetic"
   ]
  },
  {
   "cell_type": "markdown",
   "metadata": {},
   "source": [
    "<b>Matrix Addition:</b> Two matrices with the same dimensions can be added together to create a new third matrix.\n",
    "\\begin{equation*}\n",
    "C = A + B\n",
    "\\end{equation*}\n",
    "<br>\n",
    "The scalar elements in the resulting matrix are calculated as the addition of the elements in each of the matrices being added.\n",
    "\\begin{equation*}\n",
    "C =  \\begin{vmatrix}\n",
    "a_{1,1} + b_{1,1} & a_{1,2} + b_{1,2}\\\\\n",
    "a_{2,1} + b_{2,1} & a_{2,2} + b_{2,2} \\\\\n",
    "a_{3,1} + b_{3,1} & a_{3,2} + b_{3,2}\n",
    "\\end{vmatrix}\n",
    "\\end{equation*}\n",
    "<br>\n",
    "or, put another way:\n",
    "\\begin{equation*}\n",
    "C[0,0] = A[0,0] + B[0,0] \\\\\n",
    "C[1,0] = A[1,0] + B[1,0] \\\\\n",
    "C[2,0] = A[2,0] + B[2,0] \\\\\n",
    "C[0,1] = A[0,1] + B[0,1] \\\\\n",
    "C[1,1] = A[1,1] + B[1,1] \\\\\n",
    "C[2,1] = A[2,1] + B[2,1]\n",
    "\\end{equation*}\n",
    "<br>\n",
    "We can implement this in Python using the plus operator directly on the two NumPy arrays."
   ]
  },
  {
   "cell_type": "code",
   "execution_count": 2,
   "metadata": {},
   "outputs": [
    {
     "name": "stdout",
     "output_type": "stream",
     "text": [
      "[[1 2 3]\n",
      " [4 5 6]]\n",
      "[[1 2 3]\n",
      " [4 5 6]]\n",
      "[[ 2  4  6]\n",
      " [ 8 10 12]]\n"
     ]
    }
   ],
   "source": [
    "# matrix addition\n",
    "from numpy import array\n",
    "# define first matrix\n",
    "A = array([\n",
    "[1, 2, 3],\n",
    "[4, 5, 6]])\n",
    "print(A)\n",
    "# define second matrix\n",
    "B = array([\n",
    "[1, 2, 3],\n",
    "[4, 5, 6]])\n",
    "print(B)\n",
    "# add matrices\n",
    "C = A + B\n",
    "print(C)"
   ]
  },
  {
   "cell_type": "markdown",
   "metadata": {},
   "source": [
    "<b>Matrix Subtraction:</b> Similarly, one matrix can be subtracted from another matrix with the same dimensions.\n",
    "\\begin{equation*}\n",
    "C = A - B\n",
    "\\end{equation*}\n",
    "<br>\n",
    "The scalar elements in the resulting matrix are calculated as the subtraction of the elements in each of the matrices.\n",
    "\\begin{equation*}\n",
    "C =  \\begin{vmatrix}\n",
    "a_{1,1} - b_{1,1} & a_{1,2} - b_{1,2}\\\\\n",
    "a_{2,1} - b_{2,1} & a_{2,2} - b_{2,2} \\\\\n",
    "a_{3,1} - b_{3,1} & a_{3,2} - b_{3,2}\n",
    "\\end{vmatrix}\n",
    "\\end{equation*}\n",
    "<br>\n",
    "or, put another way:\n",
    "\\begin{equation*}\n",
    "C[0,0] = A[0,0] - B[0,0] \\\\\n",
    "C[1,0] = A[1,0] - B[1,0] \\\\\n",
    "C[2,0] = A[2,0] - B[2,0] \\\\\n",
    "C[0,1] = A[0,1] - B[0,1] \\\\\n",
    "C[1,1] = A[1,1] - B[1,1] \\\\\n",
    "C[2,1] = A[2,1] - B[2,1]\n",
    "\\end{equation*}\n",
    "<br>\n",
    "We can implement this in Python using the minus operator directly on the two NumPy arrays."
   ]
  },
  {
   "cell_type": "code",
   "execution_count": 3,
   "metadata": {},
   "outputs": [
    {
     "name": "stdout",
     "output_type": "stream",
     "text": [
      "[[1 2 3]\n",
      " [4 5 6]]\n",
      "[[0.5 0.5 0.5]\n",
      " [0.5 0.5 0.5]]\n",
      "[[0.5 1.5 2.5]\n",
      " [3.5 4.5 5.5]]\n"
     ]
    }
   ],
   "source": [
    "# matrix subtraction\n",
    "from numpy import array\n",
    "# define first matrix\n",
    "A = array([\n",
    "[1, 2, 3],\n",
    "[4, 5, 6]])\n",
    "print(A)\n",
    "# define second matrix\n",
    "B = array([\n",
    "[0.5, 0.5, 0.5],\n",
    "[0.5, 0.5, 0.5]])\n",
    "print(B)\n",
    "# subtract matrices\n",
    "C = A - B\n",
    "print(C)"
   ]
  },
  {
   "cell_type": "markdown",
   "metadata": {},
   "source": [
    "<b>Matrix Multiplication (Hadamard Product):</b> Two matrices with the same size can be multiplied together, and this is often called element-wise matrix multiplication or the Hadamard product. It is not the typical operation meant when referring to matrix multiplication, therefore a different operator is often used, such as a circle $\\circ$.\n",
    "\\begin{equation*}\n",
    "C = A \\circ B\n",
    "\\end{equation*}\n",
    "<br>\n",
    "As with element-wise subtraction and addition, element-wise multiplication involves the multiplication of elements from each parent matrix to calculate the values in the new matrix.\n",
    "\\begin{equation*}\n",
    "C =  \\begin{vmatrix}\n",
    "a_{1,1} \\times b_{1,1} & a_{1,2} \\times b_{1,2}\\\\\n",
    "a_{2,1} \\times b_{2,1} & a_{2,2} \\times b_{2,2} \\\\\n",
    "a_{3,1} \\times b_{3,1} & a_{3,2} \\times b_{3,2}\n",
    "\\end{vmatrix}\n",
    "\\end{equation*}\n",
    "<br>\n",
    "or, put another way:\n",
    "\\begin{equation*}\n",
    "C[0,0] = A[0,0] \\times B[0,0] \\\\\n",
    "C[1,0] = A[1,0] \\times B[1,0] \\\\\n",
    "C[2,0] = A[2,0] \\times B[2,0] \\\\\n",
    "C[0,1] = A[0,1] \\times B[0,1] \\\\\n",
    "C[1,1] = A[1,1] \\times B[1,1] \\\\\n",
    "C[2,1] = A[2,1] \\times B[2,1]\n",
    "\\end{equation*}\n",
    "<br>\n",
    "We can implement this in Python using the star operator directly on the two NumPy arrays."
   ]
  },
  {
   "cell_type": "code",
   "execution_count": 4,
   "metadata": {},
   "outputs": [
    {
     "name": "stdout",
     "output_type": "stream",
     "text": [
      "[[1 2 3]\n",
      " [4 5 6]]\n",
      "[[1 2 3]\n",
      " [4 5 6]]\n",
      "[[ 1  4  9]\n",
      " [16 25 36]]\n"
     ]
    }
   ],
   "source": [
    "# matrix Hadamard product\n",
    "from numpy import array\n",
    "# define first matrix\n",
    "A = array([\n",
    "[1, 2, 3],\n",
    "[4, 5, 6]])\n",
    "print(A)\n",
    "# define second matrix\n",
    "B = array([\n",
    "[1, 2, 3],\n",
    "[4, 5, 6]])\n",
    "print(B)\n",
    "# multiply matrices\n",
    "C = A * B\n",
    "print(C)"
   ]
  },
  {
   "cell_type": "markdown",
   "metadata": {},
   "source": [
    "<b>Matrix Division:</b> One matrix can be divided by another matrix with the same dimensions.\n",
    "\\begin{equation*}\n",
    "C = \\frac{A}{B}\n",
    "\\end{equation*}\n",
    "<br>\n",
    "As with element-wise subtraction and addition, element-wise multiplication involves the multiplication of elements from each parent matrix to calculate the values in the new matrix.\n",
    "\\begin{equation*}\n",
    "C =  \\begin{vmatrix}\n",
    "\\frac{a_{1,1}}{b_{1,1}} & \\frac{a_{1,2}}{b_{1,2}}\\\\\n",
    "\\frac{a_{2,1}}{b_{2,1}} & \\frac{a_{2,2}}{b_{2,2}} \\\\\n",
    "\\frac{a_{3,1}}{b_{3,1}} & \\frac{a_{3,2}}{b_{3,2}}\n",
    "\\end{vmatrix}\n",
    "\\end{equation*}\n",
    "<br>\n",
    "or, put another way:\n",
    "\\begin{equation*}\n",
    "C[0,0] = A[0,0] / B[0,0] \\\\\n",
    "C[1,0] = A[1,0] / B[1,0] \\\\\n",
    "C[2,0] = A[2,0] / B[2,0] \\\\\n",
    "C[0,1] = A[0,1] / B[0,1] \\\\\n",
    "C[1,1] = A[1,1] / B[1,1] \\\\\n",
    "C[2,1] = A[2,1] / B[2,1]\n",
    "\\end{equation*}\n",
    "<br>\n",
    "We can implement this in Python using the division operator directly on the two NumPy arrays."
   ]
  },
  {
   "cell_type": "code",
   "execution_count": 5,
   "metadata": {},
   "outputs": [
    {
     "name": "stdout",
     "output_type": "stream",
     "text": [
      "[[1 2 3]\n",
      " [4 5 6]]\n",
      "[[1 2 3]\n",
      " [4 5 6]]\n",
      "[[1. 1. 1.]\n",
      " [1. 1. 1.]]\n"
     ]
    }
   ],
   "source": [
    "# matrix division\n",
    "from numpy import array\n",
    "# define first matrix\n",
    "A = array([\n",
    "[1, 2, 3],\n",
    "[4, 5, 6]])\n",
    "print(A)\n",
    "# define second matrix\n",
    "B = array([\n",
    "[1, 2, 3],\n",
    "[4, 5, 6]])\n",
    "print(B)\n",
    "# divide matrices\n",
    "C = A / B\n",
    "print(C)"
   ]
  },
  {
   "cell_type": "markdown",
   "metadata": {},
   "source": [
    "<b>Matrix-Matrix Multiplication:</b> Matrix multiplication, also called the matrix dot product is more complicated than the previous operations and involves a rule as not all matrices can be multiplied together.\n",
    "\\begin{equation*}\n",
    "C = A \\cdot B\n",
    "\\end{equation*}\n",
    "<br>\n",
    "or, \n",
    "\\begin{equation*}\n",
    "C = AB\n",
    "\\end{equation*}\n",
    "<br>\n",
    "The rule for matrix multiplication is as follows:\n",
    "* The number of columns (n) in the first matrix (A) must equal the number of rows (m) in the second matrix (B).\n",
    "<br><br>\n",
    "For example, matrix A has the dimensions m rows and n columns and matrix B has the dimensions n and k. The n columns in A and n rows in B are equal. The result is a new matrix with m rows and k columns.\n",
    "\\begin{equation*}\n",
    "C(m,k) = A (m,n) \\cdot B(n,k)\n",
    "\\end{equation*}\n",
    "<br>\n",
    "This rule applies for a chain of matrix multiplications where the number of columns in one matrix in the chain must match the number of rows in the following matrix in the chain.\n",
    "<br>\n",
    "The intuition for the matrix multiplication is that we are calculating the dot product between each row in matrix A with each column in matrix B. For example, we can step down rows of column A and multiply each with column 1 in B to give the scalar values in column 1 of C. Below describes the matrix multiplication using matrix notation.\n",
    "\\begin{equation*}\n",
    "A =  \\begin{vmatrix}\n",
    "a_{1,1} & a_{1,2}\\\\\n",
    "a_{2,1} & a_{2,2} \\\\\n",
    "a_{3,1} & a_{3,2}\n",
    "\\end{vmatrix}\n",
    "\\end{equation*}\n",
    "<br>\n",
    "\\begin{equation*}\n",
    "B =  \\begin{vmatrix}\n",
    "b_{1,1} & b_{1,2}\\\\\n",
    "b_{2,1} & b_{2,2} \n",
    "\\end{vmatrix}\n",
    "\\end{equation*}\n",
    "<br>\n",
    "\\begin{equation*}\n",
    "C =  \\begin{vmatrix}\n",
    "a_{1,1} \\times b_{1,1} + a_{1,2} \\times b_{2,1} & a_{1,1} \\times b_{1,2} + a_{1,2} \\times b_{2,2}\\\\\n",
    "a_{2,1} \\times b_{1,1} + a_{2,2} \\times b_{2,1} & a_{2,1} \\times b_{1,2} + a_{2,2} \\times b_{2,2}\\\\\n",
    "a_{3,1} \\times b_{1,1} + a_{3,2} \\times b_{2,1} & a_{3,1} \\times b_{1,2} + a_{3,2} \\times b_{2,2}\n",
    "\\end{vmatrix}\n",
    "\\end{equation*}\n",
    "<br>\n",
    "We can describe the matrix multiplication operation using array notation.\n",
    "\\begin{equation*}\n",
    "C[0,0] = A[0,0] \\times B[0,0] +  A[0,1] \\times B[1,0]\\\\\n",
    "C[1,0] = A[1,0] \\times B[0,0] +  A[1,1] \\times B[1,0]\\\\\n",
    "C[2,0] = A[2,0] \\times B[0,0] +  A[2,1] \\times B[1,0]\\\\\n",
    "C[0,1] = A[0,0] \\times B[0,1] +  A[0,1] \\times B[1,1]\\\\\n",
    "C[1,1] = A[1,0] \\times B[0,1] +  A[1,1] \\times B[1,1]\\\\\n",
    "C[2,1] = A[2,0] \\times B[0,1] +  A[2,1] \\times B[1,1]\\\\\n",
    "\\end{equation*}\n",
    "<br>\n",
    "The matrix multiplication operation can be implemented in NumPy using the *dot()* function. It can also be calculated using the newer @ operator, since Python version 3.5. The example below demonstrates both methods."
   ]
  },
  {
   "cell_type": "code",
   "execution_count": 6,
   "metadata": {},
   "outputs": [
    {
     "name": "stdout",
     "output_type": "stream",
     "text": [
      "[[1 2]\n",
      " [3 4]\n",
      " [5 6]]\n",
      "[[1 2]\n",
      " [3 4]]\n",
      "[[ 7 10]\n",
      " [15 22]\n",
      " [23 34]]\n",
      "[[ 7 10]\n",
      " [15 22]\n",
      " [23 34]]\n"
     ]
    }
   ],
   "source": [
    "# matrix dot product\n",
    "from numpy import array\n",
    "# define first matrix\n",
    "A = array([\n",
    "[1, 2],\n",
    "[3, 4],\n",
    "[5, 6]])\n",
    "print(A)\n",
    "# define second matrix\n",
    "B = array([\n",
    "[1, 2],\n",
    "[3, 4]])\n",
    "print(B)\n",
    "# multiply matrices\n",
    "C = A.dot(B)\n",
    "print(C)\n",
    "# multiply matrices with @ operator\n",
    "D = A @ B\n",
    "print(D)"
   ]
  },
  {
   "cell_type": "markdown",
   "metadata": {},
   "source": [
    "<b>Matrix-Vector Multiplication:</b> A matrix and a vector can be multiplied together as long as the rule of matrix multiplication is observed. Specifically, that the number of columns in the matrix must equal the number of items in the vector. As with matrix multiplication, the operation can be written using the dot notation. Because the vector only has one column, the result is always a vector.\n",
    "<br>\n",
    "\\begin{equation*}\n",
    "C = A \\cdot v\n",
    "\\end{equation*}\n",
    "<br>\n",
    "or, \n",
    "\\begin{equation*}\n",
    "C = Av\n",
    "\\end{equation*}\n",
    "<br>\n",
    "The result is a vector with the same number of rows as the parent matrix.\n",
    "\\begin{equation*}\n",
    "A =  \\begin{vmatrix}\n",
    "a_{1,1} & a_{1,2}\\\\\n",
    "a_{2,1} & a_{2,2} \\\\\n",
    "a_{3,1} & a_{3,2}\n",
    "\\end{vmatrix}\n",
    "\\end{equation*}\n",
    "<br>\n",
    "\\begin{equation*}\n",
    "v =  \\begin{vmatrix}\n",
    "v_{1} \\\\\n",
    "v_{2} \n",
    "\\end{vmatrix}\n",
    "\\end{equation*}\n",
    "<br>\n",
    "\\begin{equation*}\n",
    "C =  \\begin{vmatrix}\n",
    "a_{1,1} \\times v_{1} +  a_{1,2} \\times v_{2}\\\\\n",
    "a_{2,1} \\times v_{1} +  a_{2,2} \\times v_{2}\\\\\n",
    "a_{3,1} \\times v_{1} +  a_{3,2} \\times v_{2}\n",
    "\\end{vmatrix}\n",
    "\\end{equation*}\n",
    "<br>\n",
    "Or, more compactly.\n",
    "\\begin{equation*}\n",
    "c =  \\begin{vmatrix}\n",
    "a_{1,1}v_{1} +  a_{1,2}v_{2}\\\\\n",
    "a_{2,1}v_{1} +  a_{2,2}v_{2}\\\\\n",
    "a_{3,1}v_{1} +  a_{3,2}v_{2}\n",
    "\\end{vmatrix}\n",
    "\\end{equation*}\n",
    "<br>\n",
    "We can also represent this with array notation.\n",
    "\\begin{equation*}\n",
    "c[0] = A[0,0] \\times v[0] +  A[0,1] \\times v[1]\\\\\n",
    "c[1] = A[1,0] \\times v[0] +  A[1,1] \\times v[1]\\\\\n",
    "c[2] = A[2,0] \\times v[0] +  A[2,1] \\times v[1]\n",
    "\\end{equation*}\n",
    "<br>\n",
    "The matrix-vector multiplication can be implemented in NumPy using the *dot()* function."
   ]
  },
  {
   "cell_type": "code",
   "execution_count": null,
   "metadata": {
    "collapsed": true
   },
   "outputs": [],
   "source": [
    "# matrix-vector multiplication\n",
    "from numpy import array\n",
    "# define matrix\n",
    "A = array([\n",
    "[1, 2],\n",
    "[3, 4],\n",
    "[5, 6]])\n",
    "print(A)\n",
    "# define vector\n",
    "B = array([0.5, 0.5])\n",
    "print(B)\n",
    "# multiply\n",
    "C = A.dot(B)\n",
    "print(C)"
   ]
  },
  {
   "cell_type": "markdown",
   "metadata": {},
   "source": [
    "<b>Matrix-Scaler Multiplication:</b> A matrix can be multiplied by a scalar. This can be represented using the dot notation between the matrix and the scalar.\n",
    "<br>\n",
    "\\begin{equation*}\n",
    "C = A \\cdot b\n",
    "\\end{equation*}\n",
    "<br>\n",
    "Or without the dot notation.\n",
    "\\begin{equation*}\n",
    "C = Ab\n",
    "\\end{equation*}\n",
    "<br>\n",
    "The result is a matrix with the same size as the parent matrix where each element of the matrix is multiplied by the scalar value.\n",
    "\\begin{equation*}\n",
    "A =  \\begin{vmatrix}\n",
    "a_{1,1} & a_{1,2}\\\\\n",
    "a_{2,1} & a_{2,2} \\\\\n",
    "a_{3,1} & a_{3,2}\n",
    "\\end{vmatrix}\n",
    "\\end{equation*}\n",
    "<br>\n",
    "\\begin{equation*}\n",
    "C =  \\begin{vmatrix}\n",
    "a_{1,1} \\times b +  a_{1,2} \\times b\\\\\n",
    "a_{2,1} \\times b +  a_{2,2} \\times b\\\\\n",
    "a_{3,1} \\times b +  a_{3,2} \\times b\n",
    "\\end{vmatrix}\n",
    "\\end{equation*}\n",
    "<br>\n",
    "Or, more compactly.\n",
    "\\begin{equation*}\n",
    "c =  \\begin{vmatrix}\n",
    "a_{1,1}b +  a_{1,2}b\\\\\n",
    "a_{2,1}b +  a_{2,2}b\\\\\n",
    "a_{3,1}b +  a_{3,2}b\n",
    "\\end{vmatrix}\n",
    "\\end{equation*}\n",
    "<br>\n",
    "We can also represent this with array notation.\n",
    "\\begin{equation*}\n",
    "C[0,0] = A[0,0] \\times b\\\\\n",
    "C[1,0] = A[1,0] \\times b\\\\\n",
    "C[2,0] = A[2,0] \\times b\\\\\n",
    "C[0,1] = A[0,0] \\times b\\\\\n",
    "C[1,1] = A[1,0] \\times b\\\\\n",
    "C[2,1] = A[2,0] \\times b\\\\\n",
    "\\end{equation*}\n",
    "<br>\n",
    "This can be implemented directly in NumPy with the multiplication operator."
   ]
  },
  {
   "cell_type": "code",
   "execution_count": 8,
   "metadata": {},
   "outputs": [
    {
     "name": "stdout",
     "output_type": "stream",
     "text": [
      "[[1 2]\n",
      " [3 4]\n",
      " [5 6]]\n",
      "0.5\n",
      "[[0.5 1. ]\n",
      " [1.5 2. ]\n",
      " [2.5 3. ]]\n"
     ]
    }
   ],
   "source": [
    "# matrix-scalar multiplication\n",
    "from numpy import array\n",
    "# define matrix\n",
    "A = array([[1, 2], [3, 4], [5, 6]])\n",
    "print(A)\n",
    "# define scalar\n",
    "b = 0.5\n",
    "print(b)\n",
    "# multiply\n",
    "C = A * b\n",
    "print(C)"
   ]
  },
  {
   "cell_type": "code",
   "execution_count": null,
   "metadata": {
    "collapsed": true
   },
   "outputs": [],
   "source": []
  }
 ],
 "metadata": {
  "kernelspec": {
   "display_name": "Python 3",
   "language": "python",
   "name": "python3"
  },
  "language_info": {
   "codemirror_mode": {
    "name": "ipython",
    "version": 3
   },
   "file_extension": ".py",
   "mimetype": "text/x-python",
   "name": "python",
   "nbconvert_exporter": "python",
   "pygments_lexer": "ipython3",
   "version": "3.5.3"
  }
 },
 "nbformat": 4,
 "nbformat_minor": 2
}
