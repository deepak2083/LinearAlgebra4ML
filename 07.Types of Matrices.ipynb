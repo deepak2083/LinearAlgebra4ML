{
 "cells": [
  {
   "cell_type": "markdown",
   "metadata": {},
   "source": [
    "# Types of Matrices"
   ]
  },
  {
   "cell_type": "markdown",
   "metadata": {},
   "source": [
    "# 1. Square Matrix"
   ]
  },
  {
   "cell_type": "markdown",
   "metadata": {},
   "source": [
    "A lot of linear algebra is concerned with operations on vectors and matrices, and there are many different types of matrices. There are a few types of matrices that you may encounter again and again when getting started in linear algebra, particularity the parts of linear algebra relevant to machine learning."
   ]
  },
  {
   "cell_type": "markdown",
   "metadata": {
    "collapsed": true
   },
   "source": [
    "A square matrix is a matrix where the number of rows ($n$) is equivalent to the number of columns ($m$).\n",
    "\\begin{equation*}\n",
    "n \\equiv m\n",
    "\\end{equation*}"
   ]
  },
  {
   "cell_type": "markdown",
   "metadata": {},
   "source": [
    "The square matrix is contrasted with the rectangular matrix where the number of rows and columns are not equal. Given that the number of rows and columns match, the dimensions are usually denoted as $n$, e.g. $n x n$. The size of the matrix is called the order, so an order $4$ square matrix is $4 x 4$. The vector of values along the diagonal of the matrix from the top left to the\n",
    "bottom right is called the main diagonal. Below is an example of an order 3 square matrix.\n",
    "<br>\n",
    "\\begin{equation*}\n",
    "M=  \\begin{vmatrix}\n",
    "1 & 2 & 3 \\\\\n",
    "1 & 2 & 3 \\\\\n",
    "1 & 2 & 3 \n",
    "\\end{vmatrix}\n",
    "\\end{equation*}\n",
    "Square matrices are readily added and multiplied together and are the basis of many simple linear transformations, such as rotations (as in the rotations of images)."
   ]
  },
  {
   "cell_type": "markdown",
   "metadata": {},
   "source": [
    "# 2. Symmetric Matrix"
   ]
  },
  {
   "cell_type": "markdown",
   "metadata": {},
   "source": [
    "A symmetric matrix is a type of square matrix where the top-right triangle is the same as the bottom-left triangle. To be symmetric, the axis of symmetry is always the main diagonal of the matrix, from the top left to the bottom right. Below is an example of a $5 x 5$ symmetric matrix.\n",
    "<br>\n",
    "\\begin{equation*}\n",
    "M=  \\begin{vmatrix}\n",
    "1 & 2 & 3 & 4 & 5\\\\\n",
    "2 & 1 & 2 & 3 & 4\\\\\n",
    "3 & 2 & 1 & 2 & 3\\\\\n",
    "4 & 3 & 2 & 1 & 2\\\\\n",
    "5 & 4 & 3 & 2 & 1\\\\\n",
    "\\end{vmatrix}\n",
    "\\end{equation*}\n",
    "<br>\n",
    "A symmetric matrix is always square and equal to its own transpose. The transpose is an operation that  flips the number of rows and columns. It is explained in more detail in the next lesson.\n",
    "<br>\n",
    "\\begin{equation*}\n",
    "M = M^{T}  \n",
    "\\end{equation*}"
   ]
  },
  {
   "cell_type": "markdown",
   "metadata": {},
   "source": [
    "# 3. Triangular Matrix"
   ]
  },
  {
   "cell_type": "markdown",
   "metadata": {},
   "source": [
    "A triangular matrix is a type of square matrix that has all values in the upper-right or lower-left of the matrix with the remaining elements filled with zero values. A triangular matrix with values only above the main diagonal is called an upper triangular matrix. Whereas, a triangular matrix with values only below the main diagonal is called a lower triangular matrix. Below is an example of a 3 x 3 upper triangular matrix.\n",
    "<br>\n",
    "\\begin{equation*}\n",
    "M=  \\begin{vmatrix}\n",
    "1 & 2 & 3 \\\\\n",
    "0 & 2 & 3 \\\\\n",
    "0 & 0 & 3 \n",
    "\\end{vmatrix}\n",
    "\\end{equation*}\n",
    "<br>\n",
    "Below is an example of a 3 x 3 lower triangular matrix.\n",
    "<br>\n",
    "\\begin{equation*}\n",
    "M=  \\begin{vmatrix}\n",
    "1 & 0 & 0 \\\\\n",
    "1 & 2 & 0 \\\\\n",
    "1 & 2 & 3 \n",
    "\\end{vmatrix}\n",
    "\\end{equation*}\n",
    "<br>\n",
    "NumPy provides functions to calculate a triangular matrix from an existing square matrix. The tril() function to calculate the lower triangular matrix from a given matrix and the triu() to calculate the upper triangular matrix from a given matrix The example below defines a 3 x 3 square matrix and calculates the lower and upper triangular matrix from it."
   ]
  },
  {
   "cell_type": "code",
   "execution_count": 1,
   "metadata": {},
   "outputs": [
    {
     "name": "stdout",
     "output_type": "stream",
     "text": [
      "[[1 2 3]\n",
      " [1 2 3]\n",
      " [1 2 3]]\n",
      "[[1 0 0]\n",
      " [1 2 0]\n",
      " [1 2 3]]\n",
      "[[1 2 3]\n",
      " [0 2 3]\n",
      " [0 0 3]]\n"
     ]
    }
   ],
   "source": [
    "# triangular matrices\n",
    "from numpy import array\n",
    "from numpy import tril\n",
    "from numpy import triu\n",
    "# define square matrix\n",
    "M = array([\n",
    "[1, 2, 3],\n",
    "[1, 2, 3],\n",
    "[1, 2, 3]])\n",
    "print(M)\n",
    "# lower triangular matrix\n",
    "lower = tril(M)\n",
    "print(lower)\n",
    "# upper triangular matrix\n",
    "upper = triu(M)\n",
    "print(upper)"
   ]
  },
  {
   "cell_type": "markdown",
   "metadata": {},
   "source": [
    "# 4. Diagonal Matrix"
   ]
  },
  {
   "cell_type": "markdown",
   "metadata": {},
   "source": [
    "A diagonal matrix is one where values outside of the main diagonal have a zero value, where the main diagonal is taken from the top left of the matrix to the bottom right. A diagonal matrix is often denoted with the variable D and may be represented as a full matrix or as a vector of values on the main diagonal.\n",
    "<br>\n",
    "Below is an example of a 3 x 3 square diagonal matrix.\n",
    "<br>\n",
    "\\begin{equation*}\n",
    "D =  \\begin{vmatrix}\n",
    "1 & 0 & 0 \\\\\n",
    "0 & 2 & 0 \\\\\n",
    "0 & 0 & 3 \n",
    "\\end{vmatrix}\n",
    "\\end{equation*}\n",
    "<br>\n",
    "As a vector, it would be represented as:\n",
    "<br>\n",
    "\\begin{equation*}\n",
    "d =  \\begin{vmatrix}\n",
    "d_{1,1} \\\\\n",
    "d_{2,2} \\\\\n",
    "d_{3,3}\n",
    "\\end{vmatrix}\n",
    "\\end{equation*}\n",
    "<br>\n",
    "A diagonal matrix does not have to be square. In the case of a rectangular matrix, the diagonal would cover the dimension with the smallest length; for example:\n",
    "<br>\n",
    "\\begin{equation*}\n",
    "D =  \\begin{vmatrix}\n",
    "1 & 0 & 0 & 0\\\\\n",
    "0 & 2 & 0 & 0\\\\\n",
    "0 & 0 & 3 & 0\\\\\n",
    "0 & 0 & 0 & 4\\\\\n",
    "0 & 0 & 0 & 0\n",
    "\\end{vmatrix}\n",
    "\\end{equation*}\n",
    "<br>\n",
    "NumPy provides the function diag() that can create a diagonal matrix from an existing matrix, or transform a vector into a diagonal matrix. The example below defines a 3 x 3 square matrix, extracts the main diagonal as a vector, and then creates a diagonal matrix from the extracted vector."
   ]
  },
  {
   "cell_type": "code",
   "execution_count": 2,
   "metadata": {},
   "outputs": [
    {
     "name": "stdout",
     "output_type": "stream",
     "text": [
      "[[1 2 3]\n",
      " [1 2 3]\n",
      " [1 2 3]]\n",
      "[1 2 3]\n",
      "[[1 0 0]\n",
      " [0 2 0]\n",
      " [0 0 3]]\n"
     ]
    }
   ],
   "source": [
    "# diagonal matrix\n",
    "from numpy import array\n",
    "from numpy import diag\n",
    "# define square matrix\n",
    "M = array([\n",
    "[1, 2, 3],\n",
    "[1, 2, 3],\n",
    "[1, 2, 3]])\n",
    "print(M)\n",
    "# extract diagonal vector\n",
    "d = diag(M)\n",
    "print(d)\n",
    "# create diagonal matrix from vector\n",
    "D = diag(d)\n",
    "print(D)"
   ]
  },
  {
   "cell_type": "markdown",
   "metadata": {},
   "source": [
    "# 5. Identity Matrix"
   ]
  },
  {
   "cell_type": "markdown",
   "metadata": {},
   "source": [
    "An identity matrix is a square matrix that does not change a vector when multiplied. The values of an identity matrix are known. All of the scalar values along the main diagonal (top-left to bottom-right) have the value one, while all other values are zero.\n",
    "<br>\n",
    "An identity matrix is often represented using the notation I or with the dimensionality $I^n$, where n is a subscript that indicates the dimensionality of the square identity matrix. In some notations, the identity may be referred to as the unit matrix, or $U$, to honor the one value it contains (this is different from a Unitary matrix). For example, an identity matrix with the size $3$ or $I^3$ would be as follows:\n",
    "\n",
    "<br>\n",
    "\\begin{equation*}\n",
    "I =  \\begin{vmatrix}\n",
    "1 & 0 & 0 \\\\\n",
    "0 & 1 & 0 \\\\\n",
    "0 & 0 & 1 \n",
    "\\end{vmatrix}\n",
    "\\end{equation*}\n",
    "<br>\n",
    "In NumPy, an identity matrix can be created with a specific size using the identity() function. The example below creates an I3 identity matrix."
   ]
  },
  {
   "cell_type": "code",
   "execution_count": 3,
   "metadata": {},
   "outputs": [
    {
     "name": "stdout",
     "output_type": "stream",
     "text": [
      "[[1. 0. 0.]\n",
      " [0. 1. 0.]\n",
      " [0. 0. 1.]]\n"
     ]
    }
   ],
   "source": [
    "# identity matrix\n",
    "from numpy import identity\n",
    "I = identity(3)\n",
    "print(I)"
   ]
  },
  {
   "cell_type": "markdown",
   "metadata": {},
   "source": [
    "# 6. Orthogonal Matrix"
   ]
  },
  {
   "cell_type": "markdown",
   "metadata": {},
   "source": [
    "Two vectors are orthogonal when their dot product equals zero. The length of each vector is 1 then the vectors are called orthonormal because they are both orthogonal and normalized. \n",
    "<br>\n",
    "\\begin{equation*}\n",
    "v \\cdot w = 0\n",
    "\\end{equation*}\n",
    "<br>\n",
    "or\n",
    "<br>\n",
    "\\begin{equation*}\n",
    "v \\cdot w^{T} = 0\n",
    "\\end{equation*}\n",
    "<br>\n",
    "This is intuitive when we consider that one line is orthogonal with another if it is perpendicular to it. An orthogonal matrix is a type of square matrix whose columns and rows are orthonormal unit vectors, e.g. perpendicular and have a length or magnitude of 1.\n",
    "<br>\n",
    "An orthogonal matrix is a square matrix whose rows are mutually orthonormal and whose columns are mutually orthonormal\n",
    "<br>\n",
    "An Orthogonal matrix is often denoted as uppercase Q.\n",
    "<br>\n",
    "The Orthogonal matrix is defined formally as follows:\n",
    "<br>\n",
    "\\begin{equation*}\n",
    "Q^{T} \\cdot Q =  Q \\cdot Q^{T} = I\n",
    "\\end{equation*}\n",
    "<br>\n",
    "Where Q is the orthogonal matrix, QT indicates the transpose of Q, and I is the identity matrix. A matrix is orthogonal if its transpose is equal to its inverse.\n",
    "<br>\n",
    "\\begin{equation*}\n",
    "Q^{T} = Q^{-1} \n",
    "\\end{equation*}\n",
    "<br>\n",
    "Another equivalence for an orthogonal matrix is if the dot product of the matrix and itself equals the identity matrix.\n",
    "<br>\n",
    "\\begin{equation*}\n",
    " Q \\cdot Q^{T} = I\n",
    "\\end{equation*}\n",
    "<br>\n",
    "Orthogonal matrices are used a lot for linear transformations, such as reflections and permutations. A simple 2 x 2 orthogonal matrix is listed below, which is an example of a reflection matrix or coordinate reflection.\n",
    "<br>\n",
    "\\begin{equation*}\n",
    "Q =  \\begin{vmatrix}\n",
    "1 & 0  \\\\\n",
    "0 & -1  \n",
    "\\end{vmatrix}\n",
    "\\end{equation*}\n",
    "<br>\n"
   ]
  },
  {
   "cell_type": "code",
   "execution_count": null,
   "metadata": {
    "collapsed": true
   },
   "outputs": [],
   "source": []
  }
 ],
 "metadata": {
  "kernelspec": {
   "display_name": "Python 3",
   "language": "python",
   "name": "python3"
  },
  "language_info": {
   "codemirror_mode": {
    "name": "ipython",
    "version": 3
   },
   "file_extension": ".py",
   "mimetype": "text/x-python",
   "name": "python",
   "nbconvert_exporter": "python",
   "pygments_lexer": "ipython3",
   "version": "3.5.3"
  }
 },
 "nbformat": 4,
 "nbformat_minor": 2
}
