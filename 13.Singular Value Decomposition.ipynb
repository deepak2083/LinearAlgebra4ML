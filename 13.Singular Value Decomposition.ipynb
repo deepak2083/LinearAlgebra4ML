{
 "cells": [
  {
   "cell_type": "markdown",
   "metadata": {},
   "source": [
    "* Matrix decomposition, also known as matrix factorization, involves describing a given matrix using its constituent elements.\n",
    "* Perhaps the most known and widely used matrix decomposition method is the Singular-Value Decomposition, or SVD.\n",
    "* All matrices have an SVD, which makes it more stable than other methods, such as the eigendecomposition.\n",
    "* As such, it is often used in a wide array of applications including compressing, denoising, and data reduction."
   ]
  },
  {
   "cell_type": "markdown",
   "metadata": {},
   "source": [
    "# 1. What is the Singular-Value Decomposition? "
   ]
  },
  {
   "cell_type": "markdown",
   "metadata": {},
   "source": [
    "The Singular-Value Decomposition, or SVD for short, is a matrix decomposition method for reducing a matrix to its constituent parts in order to make certain subsequent matrix calculations simpler. For the case of simplicity we will focus on the SVD for real-valued matrices and ignore the case for complex numbers.\n",
    "<br><br>\n",
    "\\begin{equation*}\n",
    "A = U \\cdot \\Sigma \\cdot V^{T}\n",
    "\\end{equation*}\n",
    "<br><br>\n",
    "Where A is the real $m \\times n$ matrix that we wish to decompose, $U$ is an $m \\times m$ matrix, $\\Sigma$ represented by the uppercase Greek letter sigma) is an $m \\times n$ diagonal matrix, and $V^{T}$ is the $V$ transpose of an $n \\times n$ matrix where $T$ is a superscript.\n",
    "<br><br>\n",
    "* The diagonal values in the $\\Sigma$ matrix are known as the singular values of the original matrix $A$.\n",
    "* The columns of the $U$ matrix are called the left-singular vectors of A, and the columns of $V$ are called the right-singular vectors of $A$.\n",
    "<br><br>\n",
    "The SVD is calculated via iterative numerical methods. We will not go into the details of these methods. Every rectangular matrix has a singular value decomposition, although the resulting matrices may contain complex numbers and the limitations of \n",
    "oating point arithmetic may cause some matrices to fail to decompose neatly.\n",
    "<br><br>\n",
    "The SVD is used widely both in the calculation of other matrix operations, such as matrix inverse, but also as a data reduction method in machine learning. SVD can also be used in least squares linear regression, image compression, and denoising data."
   ]
  },
  {
   "cell_type": "markdown",
   "metadata": {},
   "source": [
    "# 2. Calculate Singular-Value Decomposition"
   ]
  },
  {
   "cell_type": "markdown",
   "metadata": {},
   "source": [
    "The SVD can be calculated by calling the svd() function. The function takes a matrix and returns the $U$, $\\Sigma$ and $V^{T}$ elements. The $\\Sigma$ diagonal matrix is returned as a vector of singular values. The $V$ matrix is returned in a transposed form, e.g. $V^{T}$. The example below defines a $3 \\times 2$ matrix and calculates the singular-value decomposition."
   ]
  },
  {
   "cell_type": "code",
   "execution_count": 1,
   "metadata": {},
   "outputs": [
    {
     "name": "stdout",
     "output_type": "stream",
     "text": [
      "[[1 2]\n",
      " [3 4]\n",
      " [5 6]]\n",
      "[[-0.2298477   0.88346102  0.40824829]\n",
      " [-0.52474482  0.24078249 -0.81649658]\n",
      " [-0.81964194 -0.40189603  0.40824829]]\n",
      "[9.52551809 0.51430058]\n",
      "[[-0.61962948 -0.78489445]\n",
      " [-0.78489445  0.61962948]]\n"
     ]
    }
   ],
   "source": [
    "# singular-value decomposition\n",
    "from numpy import array\n",
    "from scipy.linalg import svd\n",
    "# define a matrix\n",
    "A = array([\n",
    "[1, 2],\n",
    "[3, 4],\n",
    "[5, 6]])\n",
    "print(A)\n",
    "# factorize\n",
    "U, s, V = svd(A)\n",
    "print(U)\n",
    "print(s)\n",
    "print(V)"
   ]
  },
  {
   "cell_type": "markdown",
   "metadata": {},
   "source": [
    "# 3. Reconstruct Matrix"
   ]
  },
  {
   "cell_type": "markdown",
   "metadata": {},
   "source": [
    "* The original matrix can be reconstructed from the $U$, $\\Sigma$ and $V^{T}$ elements. The $U$, $s$ and $V^{T}$ elements returned from the svd() cannot be multiplied directly. \n",
    "* The $s$ vector must be converted  into a diagonal matrix using the diag() function. By default, this function will create a square matrix that is $m \\times m$, relative to our original matrix.\n",
    "* This causes a problem as the size of the matrices do not fit the rules of matrix multiplication, where the number of columns in a matrix must match the number of rows in the subsequent matrix. After creating the square $\\Sigma$ diagonal matrix, the sizes of the matrices are relative to the original $n \\times m$ matrix that we are decomposing, as follows:\n",
    "<br><br>\n",
    "\\begin{equation*}\n",
    "U(m \\times m) \\cdot \\Sigma (m \\times m) \\cdot V^{T} (n \\times n)\n",
    "\\end{equation*}\n",
    "<br><br>\n",
    "Where, in fact, we require:\n",
    "<br><br>\n",
    "\\begin{equation*}\n",
    "U(m \\times m) \\cdot \\Sigma (m \\times n) \\cdot V^{T} (n \\times n)\n",
    "\\end{equation*}\n",
    "<br><br>\n",
    "We can achieve this by creating a new $\\Sigma$ matrix of all zero values that is $m \\times n$ (e.g. more rows) and populate the first $n \\times n$ part of the matrix with the square diagonal matrix calculated via diag()."
   ]
  },
  {
   "cell_type": "code",
   "execution_count": 8,
   "metadata": {},
   "outputs": [
    {
     "name": "stdout",
     "output_type": "stream",
     "text": [
      "[[1 2]\n",
      " [3 4]\n",
      " [5 6]]\n",
      "[[1. 2.]\n",
      " [3. 4.]\n",
      " [5. 6.]]\n"
     ]
    }
   ],
   "source": [
    "# reconstruct rectangular matrix from svd\n",
    "from numpy import array\n",
    "from numpy import diag\n",
    "from numpy import zeros\n",
    "from scipy.linalg import svd\n",
    "# define matrix\n",
    "A = array([\n",
    "[1, 2],\n",
    "[3, 4],\n",
    "[5, 6]])\n",
    "print(A)\n",
    "# factorize\n",
    "U, s, V = svd(A)\n",
    "#print(U)\n",
    "# create m x n Sigma matrix\n",
    "Sigma = zeros((A.shape[0], A.shape[1]))\n",
    "#print(Sigma)\n",
    "# populate Sigma with n x n diagonal matrix\n",
    "Sigma[:A.shape[1], :A.shape[1]] = diag(s)\n",
    "#print(Sigma)\n",
    "#print(V)\n",
    "# reconstruct matrix\n",
    "B = U.dot(Sigma.dot(V))\n",
    "print(B)"
   ]
  },
  {
   "cell_type": "markdown",
   "metadata": {},
   "source": [
    "The above complication with the $\\Sigma$ diagonal only exists with the case where $m$ and $n$ are not equal. The diagonal matrix can be used directly when reconstructing a square matrix, as follows."
   ]
  },
  {
   "cell_type": "code",
   "execution_count": 9,
   "metadata": {},
   "outputs": [
    {
     "name": "stdout",
     "output_type": "stream",
     "text": [
      "[[1 2 3]\n",
      " [4 5 6]\n",
      " [7 8 9]]\n",
      "[[1. 2. 3.]\n",
      " [4. 5. 6.]\n",
      " [7. 8. 9.]]\n"
     ]
    }
   ],
   "source": [
    "# reconstruct square matrix from svd\n",
    "from numpy import array\n",
    "from numpy import diag\n",
    "from scipy.linalg import svd\n",
    "# define matrix\n",
    "A = array([\n",
    "[1, 2, 3],\n",
    "[4, 5, 6],\n",
    "[7, 8, 9]])\n",
    "print(A)\n",
    "# factorize\n",
    "U, s, V = svd(A)\n",
    "# create n x n Sigma matrix\n",
    "Sigma = diag(s)\n",
    "# reconstruct matrix\n",
    "B = U.dot(Sigma.dot(V))\n",
    "print(B)"
   ]
  },
  {
   "cell_type": "markdown",
   "metadata": {},
   "source": [
    "# 4. Pseudoinverse"
   ]
  },
  {
   "cell_type": "markdown",
   "metadata": {},
   "source": [
    "The pseudoinverse is the generalization of the matrix inverse for square matrices to rectangular matrices where the number of rows and columns are not equal. It is also called the Moore-Penrose Inverse after two independent discoverers of the method or the Generalized Inverse. \n",
    "<br><br>\n",
    "The pseudoinverse is denoted as $A^{+}$, where $A$ is the matrix that is being inverted and $+$ is a superscript. The pseudoinverse is calculated using the singular value decomposition of $A$:\n",
    "<br><br>\n",
    "\\begin{equation*}\n",
    "A^{+} = V \\cdot D^{+} \\cdot U^{T}\n",
    "\\end{equation*}\n",
    "<br><br>\n",
    "Or, without the dot notation:\n",
    "<br><br>\n",
    "\\begin{equation*}\n",
    "A^{+} = VD^{+}U^{T}\n",
    "\\end{equation*}\n",
    "<br><br>\n",
    "Where $A^{+}$ is the pseudoinverse, $D^{+}$ is the pseudoinverse of the diagonal matrix $\\Sigma$ and $V^{T}$ is\n",
    "the transpose of $U$ . We can get $U$ and $V$ from the SVD operation.\n",
    "<br><br>\n",
    "\\begin{equation*}\n",
    "A = U \\cdot \\Sigma \\cdot V^{T}\n",
    "\\end{equation*}\n",
    "<br><br>\n",
    "The $D^{+}$ can be calculated by creating a diagonal matrix from $\\Sigma$, calculating the reciprocal of each non-zero element in $\\Sigma$, and taking the transpose if the original matrix was rectangular.\n",
    "<br><br>\n",
    "\\begin{equation*}\n",
    "\\Sigma =  \\begin{vmatrix}\n",
    "s_{1,1} & 0       & 0 \\\\\n",
    "0       & s_{2,2} & 0 \\\\\n",
    "0       & 0       & s_{3,3} \n",
    "\\end{vmatrix}\n",
    "\\end{equation*}\n",
    "<br><br>\n",
    "\\begin{equation*}\n",
    "D^{+} =  \\begin{vmatrix}\n",
    "\\frac{1}{s_{1,1}} & 0       & 0 \\\\\n",
    "0       & \\frac{1}{s_{2,2}} & 0 \\\\\n",
    "0       & 0       & \\frac{1}{s_{3,3}} \n",
    "\\end{vmatrix}\n",
    "\\end{equation*}\n",
    "<br><br>\n",
    "The pseudoinverse provides one way of solving the linear regression equation, specifically when there are more rows than there are columns, which is often the case. NumPy provides the function pinv() for calculating the pseudoinverse of a rectangular matrix. The example below defines a $4 \\times 2$ matrix and calculates the pseudoinverse."
   ]
  },
  {
   "cell_type": "code",
   "execution_count": 10,
   "metadata": {},
   "outputs": [
    {
     "name": "stdout",
     "output_type": "stream",
     "text": [
      "[[0.1 0.2]\n",
      " [0.3 0.4]\n",
      " [0.5 0.6]\n",
      " [0.7 0.8]]\n",
      "[[-1.00000000e+01 -5.00000000e+00  1.28757642e-14  5.00000000e+00]\n",
      " [ 8.50000000e+00  4.50000000e+00  5.00000000e-01 -3.50000000e+00]]\n"
     ]
    }
   ],
   "source": [
    "# pseudoinverse\n",
    "from numpy import array\n",
    "from numpy.linalg import pinv\n",
    "# define matrix\n",
    "A = array([\n",
    "[0.1, 0.2],\n",
    "[0.3, 0.4],\n",
    "[0.5, 0.6],\n",
    "[0.7, 0.8]])\n",
    "print(A)\n",
    "# calculate pseudoinverse\n",
    "B = pinv(A)\n",
    "print(B)"
   ]
  },
  {
   "cell_type": "markdown",
   "metadata": {},
   "source": [
    "We can calculate the pseudoinverse manually via the SVD and compare the results to the pinv() function. \n",
    "* First we must calculate the SVD. Next we must calculate the reciprocal of each value in the s array. \n",
    "* Then the s array can be transformed into a diagonal matrix with an added row of zeros to make it rectangular. \n",
    "* Finally, we can calculate the pseudoinverse from the elements. \n",
    "<br><br>\n",
    "The specific implementation is:\n",
    "<br><br>\n",
    "\\begin{equation*}\n",
    "A^{+} = V^{T} \\cdot D^{T} \\cdot U^{T}\n",
    "\\end{equation*}\n",
    "<br><br>\n",
    "The full example is listed below."
   ]
  },
  {
   "cell_type": "code",
   "execution_count": 11,
   "metadata": {},
   "outputs": [
    {
     "name": "stdout",
     "output_type": "stream",
     "text": [
      "[[0.1 0.2]\n",
      " [0.3 0.4]\n",
      " [0.5 0.6]\n",
      " [0.7 0.8]]\n",
      "[[-1.00000000e+01 -5.00000000e+00  1.28565458e-14  5.00000000e+00]\n",
      " [ 8.50000000e+00  4.50000000e+00  5.00000000e-01 -3.50000000e+00]]\n"
     ]
    }
   ],
   "source": [
    "# pseudoinverse via svd\n",
    "from numpy import array\n",
    "from numpy.linalg import svd\n",
    "from numpy import zeros\n",
    "from numpy import diag\n",
    "# define matrix\n",
    "A = array([\n",
    "[0.1, 0.2],\n",
    "[0.3, 0.4],\n",
    "[0.5, 0.6],\n",
    "[0.7, 0.8]])\n",
    "print(A)\n",
    "# factorize\n",
    "U, s, V = svd(A)\n",
    "# reciprocals of s\n",
    "d = 1.0 / s\n",
    "# create m x n D matrix\n",
    "D = zeros(A.shape)\n",
    "# populate D with n x n diagonal matrix\n",
    "D[:A.shape[1], :A.shape[1]] = diag(d)\n",
    "# calculate pseudoinverse\n",
    "B = V.T.dot(D.T).dot(U.T)\n",
    "print(B)"
   ]
  },
  {
   "cell_type": "markdown",
   "metadata": {},
   "source": [
    "# 5. Dimensionality Reduction"
   ]
  },
  {
   "cell_type": "markdown",
   "metadata": {},
   "source": [
    "A popular application of SVD is for dimensionality reduction. Data with a large number of features, such as more features (columns) than observations (rows) may be reduced to a smaller subset of features that are most relevant to the prediction problem. The result is a matrix with a lower rank that is said to approximate the original matrix. To do this we can perform an SVD operation on the original data and select the top $k$ largest singular values in $\\Sigma$. These columns can be selected from $\\Sigma$ and the rows selected from $V^{T}$ . An approximate $B$ of the original vector $A$ can then be reconstructed.\n",
    "<br><br>\n",
    "\\begin{equation*}\n",
    "B = U \\cdot \\Sigma^{T}_{k} \\cdot V^{T}_{k}\n",
    "\\end{equation*}\n",
    "<br><br>\n",
    "In natural language processing, this approach can be used on matrices of word occurrences or word frequencies in documents and is called Latent Semantic Analysis or Latent Semantic Indexing. In practice, we can retain and work with a descriptive subset of the data called $T$. This is a dense summary of the matrix or a projection.\n",
    "<br><br>\n",
    "\\begin{equation*}\n",
    "T = U \\cdot \\Sigma_{k}\n",
    "\\end{equation*}\n",
    "<br><br>\n",
    "Further, this transform can be calculated and applied to the original matrix $A$ as well as other similar matrices.\n",
    "<br><br>\n",
    "\\begin{equation*}\n",
    "T = A \\cdot V^{T}_{k}\n",
    "\\end{equation*}\n",
    "<br><br>\n",
    "The example below demonstrates data reduction with the SVD. First a $3 \\times 10$ matrix is defined, with more columns than rows. The SVD is calculated and only the first two features are selected. The elements are recombined to give an accurate reproduction of the original matrix. Finally the transform is calculated two different ways."
   ]
  },
  {
   "cell_type": "code",
   "execution_count": 14,
   "metadata": {},
   "outputs": [
    {
     "name": "stdout",
     "output_type": "stream",
     "text": [
      "[[ 1  2  3  4  5  6  7  8  9 10]\n",
      " [11 12 13 14 15 16 17 18 19 20]\n",
      " [21 22 23 24 25 26 27 28 29 30]]\n",
      "[[ 1.  2.  3.  4.  5.  6.  7.  8.  9. 10.]\n",
      " [11. 12. 13. 14. 15. 16. 17. 18. 19. 20.]\n",
      " [21. 22. 23. 24. 25. 26. 27. 28. 29. 30.]]\n",
      "[[-18.52157747   6.47697214]\n",
      " [-49.81310011   1.91182038]\n",
      " [-81.10462276  -2.65333138]]\n",
      "[[-18.52157747   6.47697214]\n",
      " [-49.81310011   1.91182038]\n",
      " [-81.10462276  -2.65333138]]\n"
     ]
    }
   ],
   "source": [
    "# data reduction with svd\n",
    "from numpy import array\n",
    "from numpy import diag\n",
    "from numpy import zeros\n",
    "from scipy.linalg import svd\n",
    "# define matrix\n",
    "A = array([\n",
    "[1,2,3,4,5,6,7,8,9,10],\n",
    "[11,12,13,14,15,16,17,18,19,20],\n",
    "[21,22,23,24,25,26,27,28,29,30]])\n",
    "print(A)\n",
    "# factorize\n",
    "U, s, V = svd(A)\n",
    "# create m x n Sigma matrix\n",
    "Sigma = zeros((A.shape[0], A.shape[1]))\n",
    "# populate Sigma with n x n diagonal matrix\n",
    "Sigma[:A.shape[0], :A.shape[0]] = diag(s)\n",
    "# select\n",
    "n_elements = 2\n",
    "Sigma = Sigma[:, :n_elements]\n",
    "V = V[:n_elements, :]\n",
    "# reconstruct\n",
    "B = U.dot(Sigma.dot(V))\n",
    "print(B)\n",
    "# transform\n",
    "T = U.dot(Sigma)\n",
    "print(T)\n",
    "T = A.dot(V.T)\n",
    "print(T)"
   ]
  },
  {
   "cell_type": "markdown",
   "metadata": {},
   "source": [
    "The scikit-learn provides a $TruncatedSVD$ class that implements this capability directly. The $TruncatedSVD$ class can be created in which you must specify the number of desirable features or components to select, e.g. $2$. Once created, you can fit the transform (e.g. calculate $V^{T}_{k}$) by calling the fit() function, then apply it to the original matrix by calling the transform() function. The result is the transform of A called T above. The example below demonstrates the $TruncatedSVD$ class."
   ]
  },
  {
   "cell_type": "code",
   "execution_count": null,
   "metadata": {
    "collapsed": true
   },
   "outputs": [],
   "source": []
  }
 ],
 "metadata": {
  "kernelspec": {
   "display_name": "Python 3",
   "language": "python",
   "name": "python3"
  },
  "language_info": {
   "codemirror_mode": {
    "name": "ipython",
    "version": 3
   },
   "file_extension": ".py",
   "mimetype": "text/x-python",
   "name": "python",
   "nbconvert_exporter": "python",
   "pygments_lexer": "ipython3",
   "version": "3.5.3"
  }
 },
 "nbformat": 4,
 "nbformat_minor": 2
}
