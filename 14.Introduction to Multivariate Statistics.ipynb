{
 "cells": [
  {
   "cell_type": "markdown",
   "metadata": {},
   "source": [
    "Fundamental statistics are useful tools in applied machine learning for a better understanding your data. They are also the tools that provide the foundation for more advanced linear algebra operations and machine learning methods, such as the covariance matrix and principal component analysis respectively. As such, it is important to have a strong grip on fundamental statistics in the context of linear algebra notation."
   ]
  },
  {
   "cell_type": "markdown",
   "metadata": {},
   "source": [
    "# 1. Expected Value and Mean"
   ]
  },
  {
   "cell_type": "markdown",
   "metadata": {},
   "source": [
    "In probability, the average value of some random variable $X$ is called the expected value or the expectation. The expected value uses the notation $E$ with square brackets around the name of the variable; for example:\n",
    "<br><br>\n",
    "\\begin{equation*}\n",
    "E[X]\n",
    "\\end{equation*}\n",
    "<br><br>\n",
    "It is calculated as the probability weighted sum of values that can be drawn.\n",
    "<br><br>\n",
    "\\begin{equation*}\n",
    "E[X] = \\sum{x_{1} \\times p_{1}, x_{2} \\times p_{2}, x_{3} \\times p_{3}, \\cdots , x_{n} \\times p_{n}}\n",
    "\\end{equation*}\n",
    "<br><br>\n",
    "In simple cases, such as the  flipping of a coin or rolling a dice, the probability of each event is just as likely. Therefore, the expected value can be calculated as the sum of all values multiplied by the reciprocal of the number of values.\n",
    "<br><br>\n",
    "\\begin{equation*}\n",
    "E[X] = \\frac{1}{n} \\times \\sum{x_{1}, x_{2}, x_{3}, \\cdots , x_{n}}\n",
    "\\end{equation*}\n",
    "<br><br>\n",
    "In statistics, the mean, or more technically the arithmetic mean or sample mean, can be estimated from a sample of examples drawn from the domain. It is confusing because mean, average, and expected value are used interchangeably. In the abstract, the mean is denoted by the lower case Greek letter mu $\\mu$ and is calculated from the sample of observations, rather than all possible values.\n",
    "<br><br>\n",
    "\\begin{equation*}\n",
    "\\mu = \\frac{1}{n} \\times \\sum{x_{1}, x_{2}, x_{3}, \\cdots , x_{n}}\n",
    "\\end{equation*}\n",
    "<br><br>\n",
    "Or, written more compactly:\n",
    "<br><br>\n",
    "\\begin{equation*}\n",
    "\\mu = P(x) \\times \\sum{x}\n",
    "\\end{equation*}\n",
    "<br><br>\n",
    "Where $x$ is the vector of observations and $P(x)$ is the calculated probability for each value. When calculated for a specific variable, such as $x$, the mean is denoted as a lower case variable name with a line above, called x-bar e.g. $\\bar{x}$.\n",
    "<br><br>\n",
    "\\begin{equation*}\n",
    "\\bar{x} = \\frac{1}{n} \\times \\sum^{n}_{i=1} {x_{i}}\n",
    "\\end{equation*}\n",
    "<br><br>\n",
    "The arithmetic mean can be calculated for a vector or matrix in NumPy by using the $mean()$ function. The example below defines a 6-element vector and calculates the mean."
   ]
  },
  {
   "cell_type": "code",
   "execution_count": 1,
   "metadata": {},
   "outputs": [
    {
     "name": "stdout",
     "output_type": "stream",
     "text": [
      "[1 2 3 4 5 6]\n",
      "3.5\n"
     ]
    }
   ],
   "source": [
    "# vector mean\n",
    "from numpy import array\n",
    "from numpy import mean\n",
    "# define vector\n",
    "v = array([1,2,3,4,5,6])\n",
    "print(v)\n",
    "# calculate mean\n",
    "result = mean(v)\n",
    "print(result)"
   ]
  },
  {
   "cell_type": "markdown",
   "metadata": {},
   "source": [
    "The mean function can calculate the row or column means of a matrix by specifying the axis argument and the value 0 or 1 respectively. The example below defines a $2 \\times 6$ matrix and calculates both column and row means."
   ]
  },
  {
   "cell_type": "code",
   "execution_count": 2,
   "metadata": {},
   "outputs": [
    {
     "name": "stdout",
     "output_type": "stream",
     "text": [
      "[[1 2 3 4 5 6]\n",
      " [1 2 3 4 5 6]]\n",
      "[1. 2. 3. 4. 5. 6.]\n",
      "[3.5 3.5]\n"
     ]
    }
   ],
   "source": [
    "# matrix means\n",
    "from numpy import array\n",
    "from numpy import mean\n",
    "# define matrix\n",
    "M = array([\n",
    "[1,2,3,4,5,6],\n",
    "[1,2,3,4,5,6]])\n",
    "print(M)\n",
    "# column means\n",
    "col_mean = mean(M, axis=0)\n",
    "print(col_mean)\n",
    "# row means\n",
    "row_mean = mean(M, axis=1)\n",
    "print(row_mean)"
   ]
  },
  {
   "cell_type": "markdown",
   "metadata": {},
   "source": [
    "# 2. Variance and Standard Deviation"
   ]
  },
  {
   "cell_type": "markdown",
   "metadata": {
    "collapsed": true
   },
   "source": [
    "In probability, the variance of some random variable X is a measure of how much values in the distribution vary on average with respect to the mean. The variance is denoted as the function $Var()$ on the variable.\n",
    "<br><br>\n",
    "\\begin{equation*}\n",
    "Var[X]\n",
    "\\end{equation*}\n",
    "<br><br>\n",
    "Variance is calculated as the average squared difference of each value in the distribution from the expected value. Or the expected squared difference from the expected value.\n",
    "<br><br>\n",
    "\\begin{equation*}\n",
    "Var[X] = E[(X-E[X])^{2}]\n",
    "\\end{equation*}\n",
    "<br><br>\n",
    "Assuming the expected value of the variable has been calculated ($E[X]$), the variance of the random variable can be calculated as the sum of the squared difference of each example from the expected value multiplied by the probability of that value.\n",
    "<br><br>\n",
    "\\begin{equation*}\n",
    "Var[X] = \\sum{p(x_{1}) \\times (x_{1}-E[X])^{2}, p(x_{2}) \\times (x_{2}-E[X])^{2}, \\cdots , p(x_{n}) \\times (x_{n}-E[X])^{2}}\n",
    "\\end{equation*}\n",
    "<br><br>\n",
    "If the probability of each example in the distribution is equal, variance calculation can drop the individual probabilities and multiply the sum of squared differences by the reciprocal of the number of examples in the distribution.\n",
    "<br><br>\n",
    "\\begin{equation*}\n",
    "Var[X] = \\frac{1}{n} \\times \\sum{(x_{1}-E[X])^{2}, (x_{2}-E[X])^{2}, \\cdots , (x_{n}-E[X])^{2}}\n",
    "\\end{equation*}\n",
    "<br><br>\n",
    "In statistics, the variance can be estimated from a sample of examples drawn from the domain. In the abstract, the sample variance is denoted by the lower case sigma with a 2 superscript indicating the units are squared (e.g. $\\sigma^{2}$), not that you must square the final value. The sum of the squared differences is multiplied by the reciprocal of the number of examples minus 1 to correct for a bias (bias is related to a deeper discussion on degrees of freedom).\n",
    "<br><br>\n",
    "\\begin{equation*}\n",
    "\\sigma^{2} = \\frac{1}{n-1} \\times \\sum_{i=1}^{n} {(x_{i}-\\mu)^{2}}\n",
    "\\end{equation*}\n",
    "<br><br>\n",
    "In NumPy, the variance can be calculated for a vector or a matrix using the var() function. By default, the var() function calculates the population variance. To calculate the sample variance, you must set the ddof argument to the value 1. The example below defines a 6-element vector and calculates the sample variance."
   ]
  },
  {
   "cell_type": "code",
   "execution_count": 1,
   "metadata": {},
   "outputs": [
    {
     "name": "stdout",
     "output_type": "stream",
     "text": [
      "[1 2 3 4 5 6]\n",
      "3.5\n"
     ]
    }
   ],
   "source": [
    "# vector variance\n",
    "from numpy import array\n",
    "from numpy import var\n",
    "# define vector\n",
    "v = array([1,2,3,4,5,6])\n",
    "print(v)\n",
    "# calculate variance\n",
    "result = var(v, ddof=1)\n",
    "print(result)"
   ]
  },
  {
   "cell_type": "markdown",
   "metadata": {},
   "source": [
    "The var function can calculate the row or column variances of a matrix by specifying the axis argument and the value $0$ or $1$ respectively, the same as the mean function above. The example below defines a $2 \\times 6$ matrix and calculates both column and row sample variances."
   ]
  },
  {
   "cell_type": "code",
   "execution_count": 2,
   "metadata": {},
   "outputs": [
    {
     "name": "stdout",
     "output_type": "stream",
     "text": [
      "[[1 2 3 4 5 6]\n",
      " [1 2 3 4 5 6]]\n",
      "[0. 0. 0. 0. 0. 0.]\n",
      "[3.5 3.5]\n"
     ]
    }
   ],
   "source": [
    "# matrix variances\n",
    "from numpy import array\n",
    "from numpy import var\n",
    "# define matrix\n",
    "M = array([\n",
    "[1,2,3,4,5,6],\n",
    "[1,2,3,4,5,6]])\n",
    "print(M)\n",
    "# column variances\n",
    "col_var = var(M, ddof=1, axis=0)\n",
    "print(col_var)\n",
    "# row variances\n",
    "row_var = var(M, ddof=1, axis=1)\n",
    "print(row_var)"
   ]
  },
  {
   "cell_type": "markdown",
   "metadata": {},
   "source": [
    "The standard deviation is calculated as the square root of the variance and is denoted as lowercase $s$.\n",
    "<br><br>\n",
    "\\begin{equation*}\n",
    "s = \\sqrt{\\sigma^{2}}\n",
    "\\end{equation*}\n",
    "<br><br>\n",
    "To keep with this notation, sometimes the variance is indicated as $s^{2}$, with $2$ as a superscript, again showing that the units are squared. NumPy also provides a function for calculating the standard deviation directly via the $std()$ function. As with the $var()$ function, the ddof argument must be set to 1 to calculate the unbiased sample standard deviation and column and row standard deviations can be calculated by setting the axis argument to $0$ and $1$ respectively. The example below demonstrates how to calculate the sample standard deviation for the rows and columns of a matrix."
   ]
  },
  {
   "cell_type": "code",
   "execution_count": 3,
   "metadata": {},
   "outputs": [
    {
     "name": "stdout",
     "output_type": "stream",
     "text": [
      "[[1 2 3 4 5 6]\n",
      " [1 2 3 4 5 6]]\n",
      "[0. 0. 0. 0. 0. 0.]\n",
      "[1.87082869 1.87082869]\n"
     ]
    }
   ],
   "source": [
    "# matrix standard deviation\n",
    "from numpy import array\n",
    "from numpy import std\n",
    "# define matrix\n",
    "M = array([\n",
    "[1,2,3,4,5,6],\n",
    "[1,2,3,4,5,6]])\n",
    "print(M)\n",
    "# column standard deviations\n",
    "col_std = std(M, ddof=1, axis=0)\n",
    "print(col_std)\n",
    "# row standard deviations\n",
    "row_std = std(M, ddof=1, axis=1)\n",
    "print(row_std)"
   ]
  },
  {
   "cell_type": "markdown",
   "metadata": {},
   "source": [
    "# 3. Covariance and Correlation"
   ]
  },
  {
   "cell_type": "markdown",
   "metadata": {},
   "source": [
    "In probability, covariance is the measure of the joint probability for two random variables. It describes how the two variables change together. It is denoted as the function $cov(X,Y)$, where $X$ and $Y$ are the two random variables being considered.\n",
    "<br><br>\n",
    "\\begin{equation*}\n",
    "cov(X,Y)\n",
    "\\end{equation*}\n",
    "<br><br>\n",
    "Covariance is calculated as expected value or average of the product of the differences of each random variable from their expected values, where $E[X]$ is the expected value for $X$ and $E[Y]$ is the expected value of $y$.\n",
    "<br><br>\n",
    "\\begin{equation*}\n",
    "cov(X,Y) = E[(X-E[X]) \\times (Y-E[Y])]\n",
    "\\end{equation*}\n",
    "<br><br>\n",
    "Assuming the expected values for X and Y have been calculated, the covariance can be calculated as the sum of the di\u000b",
    "erence of x values from their expected value multiplied by the difference of the y values from their expected values multiplied by the reciprocal of the number of examples in the population.\n",
    "<br><br>\n",
    "\\begin{equation*}\n",
    "cov(X,Y) = \\frac{1}{n} \\times \\sum {(x-E[X]) \\times (y-E[Y])}\n",
    "\\end{equation*}\n",
    "<br><br>\n",
    "In statistics, the sample covariance can be calculated in the same way, although with a bias correction, the same as with the variance.\n",
    "<br><br>\n",
    "\\begin{equation*}\n",
    "cov(X,Y) = \\frac{1}{n-1} \\times \\sum {(x-E[X]) \\times (y-E[Y])}\n",
    "\\end{equation*}\n",
    "<br><br>\n",
    "* The sign of the covariance can be interpreted as whether the two variables increase together (positive) or decrease together (negative). The magnitude of the covariance is not easily interpreted. \n",
    "* A covariance value of zero indicates that both variables are completely independent. \n",
    "* NumPy does not have a function to calculate the covariance between two variables directly.\n",
    "* Instead, it has a function for calculating a covariance matrix called $cov()$ that we can use to retrieve the covariance. \n",
    "* By default, the $cov()$ function will calculate the unbiased or sample covariance between the provided random variables.\n",
    "<br><br>\n",
    "The example below defines two vectors of equal length with one increasing and one decreasing. We would expect the covariance between these variables to be negative. We access just the covariance for the two variables as the $[0,1]$ element of the square covariance matrix returned."
   ]
  },
  {
   "cell_type": "code",
   "execution_count": 6,
   "metadata": {},
   "outputs": [
    {
     "name": "stdout",
     "output_type": "stream",
     "text": [
      "[1 2 3 4 5 6 7 8 9]\n",
      "[9 8 7 6 5 4 3 2 1]\n",
      "-7.5\n"
     ]
    }
   ],
   "source": [
    "# vector covariance\n",
    "from numpy import array\n",
    "from numpy import cov\n",
    "# define first vector\n",
    "x = array([1,2,3,4,5,6,7,8,9])\n",
    "print(x)\n",
    "# define second covariance\n",
    "y = array([9,8,7,6,5,4,3,2,1])\n",
    "print(y)\n",
    "# calculate covariance\n",
    "Sigma = cov(x,y)[0,1]\n",
    "print(Sigma)"
   ]
  },
  {
   "cell_type": "markdown",
   "metadata": {},
   "source": [
    "The covariance can be normalized to a score between -1 and 1 to make the magnitude interpretable by dividing it by the standard deviation of X and Y . The result is called the correlation of the variables, also called the Pearson correlation coefficient, named for the developer of the method.\n",
    "<br><br>\n",
    "\\begin{equation*}\n",
    "r = \\frac{cov(X,Y)}{s_{X} \\times s_{Y}}\n",
    "\\end{equation*}\n",
    "<br><br>\n",
    "* Where $r$ is the correlation coefficient of $X$ and $Y$ , $cov(X,Y)$ is the sample covariance of $X$ and $Y$ and $s_{X}$ and $s_{Y}$ are the standard deviations of $X$ and $Y$ respectively. \n",
    "* NumPy provides the $corrcoef()$ function for calculating the correlation between two variables directly. Like $cov()$, it returns a matrix, in this case a correlation matrix. \n",
    "* As with the results from $cov()$ we can access just the correlation of interest from the $[0,1]$ value from the returned squared matrix."
   ]
  },
  {
   "cell_type": "code",
   "execution_count": 12,
   "metadata": {},
   "outputs": [
    {
     "name": "stdout",
     "output_type": "stream",
     "text": [
      "[1 2 3 4 5 6 7 8 9]\n",
      "[9 8 7 6 5 4 3 2 1]\n",
      "-1.0\n"
     ]
    }
   ],
   "source": [
    "# vector correlation\n",
    "from numpy import array\n",
    "from numpy import corrcoef\n",
    "# define first vector\n",
    "x = array([1,2,3,4,5,6,7,8,9])\n",
    "print(x)\n",
    "# define second vector\n",
    "y = array([9,8,7,6,5,4,3,2,1])\n",
    "print(y)\n",
    "# calculate correlation\n",
    "corr = corrcoef(x,y)[0,1]\n",
    "print(corr)"
   ]
  },
  {
   "cell_type": "markdown",
   "metadata": {},
   "source": [
    "# 4. Covariance Matrix"
   ]
  },
  {
   "cell_type": "markdown",
   "metadata": {},
   "source": [
    "* The covariance matrix is a square and symmetric matrix that describes the covariance between two or more random variables.\n",
    "* The diagonal of the covariance matrix are the variances of each of the random variables, as such it is often called the variance-covariance matrix.\n",
    "* A covariance matrix is a generalization of the covariance of two variables and captures the way in which all variables in the dataset may change together.\n",
    "* The covariance matrix is denoted as the uppercase Greek letter Sigma, e.g. $\\Sigma$.\n",
    "* The covariance for each pair of random variables is calculated as above.\n",
    "<br><br>\n",
    "\\begin{equation*}\n",
    "\\Sigma = E[(X-E[X]) \\times (Y-E[Y])]\n",
    "\\end{equation*}\n",
    "<br><br>\n",
    "where, \n",
    "<br><br>\n",
    "\\begin{equation*}\n",
    "\\Sigma_{i,j} = cov(X_{i},Y_{j})\n",
    "\\end{equation*}\n",
    "<br><br>\n",
    "And $X$ is a matrix where each column represents a random variable. The covariance matrix provides a useful tool for separating the structured relationships in a matrix of random variables. This can be used to decorrelate variables or applied as a transform to other variables. It is a key element used in the Principal Component Analysis data reduction method, or PCA for short.\n",
    "<br><br>\n",
    "The covariance matrix can be calculated in NumPy using the $cov()$ function. By default, this function will calculate the sample covariance matrix. The $cov()$ function can be called with a single 2D array where each sub-array contains a feature (e.g. column). If this function is called with your data defined in a normal matrix format (rows then columns), then a transpose of the matrix will need to be provided to the function in order to correctly calculate the covariance of the columns. Below is an example that defines a dataset with $5$ observations across $3$ features and calculates the covariance matrix."
   ]
  },
  {
   "cell_type": "code",
   "execution_count": 13,
   "metadata": {},
   "outputs": [
    {
     "name": "stdout",
     "output_type": "stream",
     "text": [
      "[[ 1  5  8]\n",
      " [ 3  5 11]\n",
      " [ 2  4  9]\n",
      " [ 3  6 10]\n",
      " [ 1  5 10]]\n",
      "[[1.   0.25 0.75]\n",
      " [0.25 0.5  0.25]\n",
      " [0.75 0.25 1.3 ]]\n"
     ]
    }
   ],
   "source": [
    "# covariance matrix\n",
    "from numpy import array\n",
    "from numpy import cov\n",
    "# define matrix of observations\n",
    "X = array([\n",
    "[1, 5, 8],\n",
    "[3, 5, 11],\n",
    "[2, 4, 9],\n",
    "[3, 6, 10],\n",
    "[1, 5, 10]])\n",
    "print(X)\n",
    "# calculate covariance matrix\n",
    "Sigma = cov(X.T)\n",
    "print(Sigma)"
   ]
  },
  {
   "cell_type": "code",
   "execution_count": null,
   "metadata": {
    "collapsed": true
   },
   "outputs": [],
   "source": []
  }
 ],
 "metadata": {
  "kernelspec": {
   "display_name": "Python 3",
   "language": "python",
   "name": "python3"
  },
  "language_info": {
   "codemirror_mode": {
    "name": "ipython",
    "version": 3
   },
   "file_extension": ".py",
   "mimetype": "text/x-python",
   "name": "python",
   "nbconvert_exporter": "python",
   "pygments_lexer": "ipython3",
   "version": "3.5.3"
  }
 },
 "nbformat": 4,
 "nbformat_minor": 2
}
