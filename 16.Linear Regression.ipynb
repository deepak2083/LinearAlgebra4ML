{
 "cells": [
  {
   "cell_type": "markdown",
   "metadata": {},
   "source": [
    "* Linear regression is a method for modeling the relationship between one or more independent variables and a dependent variable.\n",
    "* It is a staple of statistics and is often considered a good introductory machine learning method.\n",
    "* It is also a method that can be reformulated using matrix notation and solved using matrix operations."
   ]
  },
  {
   "cell_type": "markdown",
   "metadata": {},
   "source": [
    "# 1. What is Linear Regression?"
   ]
  },
  {
   "cell_type": "markdown",
   "metadata": {},
   "source": [
    "Linear regression is a method for modeling the relationship between two scalar values: the input variable $x$ and the output variable $y$. The model assumes that $y$ is a linear function or a weighted sum of the input variable.\n",
    "<br><br>\n",
    "\\begin{equation*}\n",
    "y = f(x)\n",
    "\\end{equation*}\n",
    "<br><br>\n",
    "Or, stated with the coefficients.\n",
    "<br><br>\n",
    "\\begin{equation*}\n",
    "y = b_{0} + b_{1} \\times x\n",
    "\\end{equation*}\n",
    "<br><br>\n",
    "The model can also be used to model an output variable given multiple input variables called multivariate linear regression (below, brackets were added for readability).\n",
    "<br><br>\n",
    "\\begin{equation*}\n",
    "y = b_{0} + (b_{1} \\times x_{1}) + (b_{2} \\times x_{2}) + \\cdots\n",
    "\\end{equation*}\n",
    "<br><br>\n",
    "The objective of creating a linear regression model is to find the values for the coefficient values ($b$) that minimize the error in the prediction of the output variable $y$."
   ]
  },
  {
   "cell_type": "markdown",
   "metadata": {},
   "source": [
    "# 2. Matrix Formulation of Linear Regression"
   ]
  },
  {
   "cell_type": "markdown",
   "metadata": {},
   "source": [
    "Linear regression can be stated using Matrix notation; for example:\n",
    "<br><br>\n",
    "\\begin{equation*}\n",
    "y = X \\cdot b\n",
    "\\end{equation*}\n",
    "<br><br>\n",
    "Or, without the dot notation.\n",
    "<br><br>\n",
    "\\begin{equation*}\n",
    "y = Xb\n",
    "\\end{equation*}\n",
    "<br><br>\n",
    "Where $X$ is the input data and each column is a data feature, $b$ is a vector of coefficients and $y$ is a vector of output variables for each row in $X$.\n",
    "<br><br>\n",
    "\\begin{equation*}\n",
    "X =  \\begin{vmatrix}\n",
    "x_{1,1} & x_{1,2} & x_{1,3} \\\\\n",
    "x_{2,1} & x_{2,2} & x_{2,3} \\\\\n",
    "x_{3,1} & x_{3,2} & x_{3,3} \\\\\n",
    "x_{4,1} & x_{4,2} & x_{4,3} \n",
    "\\end{vmatrix}\n",
    "\\end{equation*}\n",
    "<br><br>\n",
    "\\begin{equation*}\n",
    "b =  \\begin{vmatrix}\n",
    "b_{1} \\\\\n",
    "b_{2} \\\\\n",
    "b_{3} \n",
    "\\end{vmatrix}\n",
    "\\end{equation*}\n",
    "<br><br>\n",
    "\\begin{equation*}\n",
    "y =  \\begin{vmatrix}\n",
    "y_{1} \\\\\n",
    "y_{2} \\\\\n",
    "y_{3} \\\\\n",
    "y_{4} \n",
    "\\end{vmatrix}\n",
    "\\end{equation*}\n",
    "<br><br>\n",
    "* Reformulated, the problem becomes a system of linear equations where the $b$ vector values are unknown. This type of system is referred to as overdetermined because there are more equations than there are unknowns, i.e. each coefficient is used on each row of data. \n",
    "* It is a challenging problem to solve analytically because there are multiple inconsistent solutions, e.g. multiple possible values for the coefficients. \n",
    "* Further, all solutions will have some error because there is no line that will pass nearly through all points, therefore the approach to solving the equations must be able to handle that. \n",
    "* The way this is typically achieved is by finding a solution where the values for b in the model minimize the squared error. This is called linear least squares.\n",
    "<br><br>\n",
    "\\begin{equation*}\n",
    "\\| X \\cdot b - y \\|^{2} = \\sum_{i=1}^{m} \\sum_{j=1}^{n} X_{ij} \\cdot (b_{j} - y_{i})\n",
    "\\end{equation*}\n",
    "<br><br>\n",
    "This formulation has a unique solution as long as the input columns are independent (e.g. uncorrelated).\n",
    "<br><br>\n",
    "In matrix notation, this problem is formulated using the so-named normal equation:<br><br>\n",
    "<br><br>\n",
    "\\begin{equation*}\n",
    "X^{T} \\cdot X \\cdot b  = X^{T} \\cdot y\n",
    "\\end{equation*}\n",
    "<br><br>\n",
    "This can be re-arranged in order to specify the solution for b as:\n",
    "<br><br>\n",
    "\\begin{equation*}\n",
    " b  = (X^{T} \\cdot X)^{-1} \\cdot X^{T} \\cdot y\n",
    "\\end{equation*}\n",
    "<br><br>\n",
    "This can be solved directly, although given the presence of the matrix inverse can be numerically challenging or unstable."
   ]
  },
  {
   "cell_type": "markdown",
   "metadata": {},
   "source": [
    "# 3. Linear Regression Dataset"
   ]
  },
  {
   "cell_type": "markdown",
   "metadata": {},
   "source": [
    "* In order to explore the matrix formulation of linear regression, let's first define a dataset as a context.\n",
    "* We will use a simple 2D dataset where the data is easy to visualize as a scatter plot and models are easy to visualize as a line that attempts to fit the data points.\n",
    "* The example below defines a $5 \\times 2$ matrix dataset, splits it into $X$ and $y$ components, and plots the dataset as a scatter plot."
   ]
  },
  {
   "cell_type": "code",
   "execution_count": 2,
   "metadata": {},
   "outputs": [
    {
     "name": "stdout",
     "output_type": "stream",
     "text": [
      "[[0.05 0.12]\n",
      " [0.18 0.22]\n",
      " [0.31 0.35]\n",
      " [0.42 0.38]\n",
      " [0.5  0.49]]\n",
      "[0.05 0.18 0.31 0.42 0.5 ]\n",
      "[0.12 0.22 0.35 0.38 0.49]\n",
      "[[0.05]\n",
      " [0.18]\n",
      " [0.31]\n",
      " [0.42]\n",
      " [0.5 ]]\n"
     ]
    },
    {
     "data": {
      "image/png": "[encoded data removed]",
      "text/plain": [
       "<matplotlib.figure.Figure at 0x2b270a18160>"
      ]
     },
     "metadata": {},
     "output_type": "display_data"
    }
   ],
   "source": [
    "# linear regression dataset\n",
    "from numpy import array\n",
    "from matplotlib import pyplot\n",
    "# define dataset\n",
    "data = array([\n",
    "[0.05, 0.12],\n",
    "[0.18, 0.22],\n",
    "[0.31, 0.35],\n",
    "[0.42, 0.38],\n",
    "[0.5, 0.49]])\n",
    "print(data)\n",
    "# split into inputs and outputs\n",
    "X, y = data[:,0], data[:,1]\n",
    "print(X)\n",
    "print(y)\n",
    "X = X.reshape((len(X), 1))\n",
    "print(X)\n",
    "# scatter plot\n",
    "pyplot.scatter(X, y)\n",
    "pyplot.show()"
   ]
  },
  {
   "cell_type": "markdown",
   "metadata": {},
   "source": [
    "# 4. Solve via Inverse"
   ]
  },
  {
   "cell_type": "markdown",
   "metadata": {},
   "source": [
    "* The first approach is to attempt to solve the regression problem directly using the matrix inverse.\n",
    "* That is, given $X$, what are the set of coefficients $b$ that when multiplied by $X$ will give $y$. As we saw in a previous section, the normal equations define how to calculate $b$ directly.\n",
    "<br><br>\n",
    "\\begin{equation*}\n",
    " b  = (X^{T} \\cdot X)^{-1} \\cdot X^{T} \\cdot y\n",
    "\\end{equation*}\n",
    "<br><br>\n",
    "This can be calculated directly in NumPy using the inv() function for calculating the matrix inverse as $b = inv(X.T.dot(X)).dot(X.T).dot(y)$\n",
    "<br>\n",
    "Once the coefficients are calculated, we can use them to predict outcomes given $X$.i.e. $yhat = X.dot(b)$"
   ]
  },
  {
   "cell_type": "code",
   "execution_count": 3,
   "metadata": {},
   "outputs": [
    {
     "name": "stdout",
     "output_type": "stream",
     "text": [
      "[1.00233226]\n"
     ]
    },
    {
     "data": {
      "image/png": "[encoded data removed]",
      "text/plain": [
       "<matplotlib.figure.Figure at 0x2b270a410b8>"
      ]
     },
     "metadata": {},
     "output_type": "display_data"
    }
   ],
   "source": [
    "# direct solution to linear least squares\n",
    "from numpy import array\n",
    "from numpy.linalg import inv\n",
    "from matplotlib import pyplot\n",
    "# define dataset\n",
    "data = array([\n",
    "[0.05, 0.12],\n",
    "[0.18, 0.22],\n",
    "[0.31, 0.35],\n",
    "[0.42, 0.38],\n",
    "[0.5, 0.49]])\n",
    "# split into inputs and outputs\n",
    "X, y = data[:,0], data[:,1]\n",
    "X = X.reshape((len(X), 1))\n",
    "# linear least squares\n",
    "b = inv(X.T.dot(X)).dot(X.T).dot(y)\n",
    "print(b)\n",
    "# predict using coefficients\n",
    "yhat = X.dot(b)\n",
    "# plot data and predictions\n",
    "pyplot.scatter(X, y)\n",
    "pyplot.plot(X, yhat, color='red')\n",
    "pyplot.show()"
   ]
  },
  {
   "cell_type": "markdown",
   "metadata": {},
   "source": [
    "A problem with this approach is the matrix inverse that is both computationally expensive and numerically unstable. An alternative approach is to use a matrix decomposition to avoid this operation."
   ]
  },
  {
   "cell_type": "markdown",
   "metadata": {},
   "source": [
    "# 5. Solve via QR Decomposition"
   ]
  },
  {
   "cell_type": "markdown",
   "metadata": {},
   "source": [
    "The QR decomposition is an approach of breaking a matrix down into its constituent elements.\n",
    "<br><br>\n",
    "\\begin{equation*}\n",
    " A = Q \\cdot R\n",
    "\\end{equation*}\n",
    "<br><br>\n",
    "Where $A$ is the matrix that we wish to decompose, $Q$ a matrix with the size $m \\times m$, and $R$ is an upper triangle matrix with the size $m \\times n$. The QR decomposition is a popular approach for solving the linear least squares equation. Stepping over all of the derivation, the coefficients can be found using the $Q$ and $R$ elements as follows:\n",
    "<br><br>\n",
    "\\begin{equation*}\n",
    " b  = R^{-1} \\cdot Q^{T} \\cdot y\n",
    "\\end{equation*}\n",
    "<br><br>\n",
    "The approach still involves a matrix inversion, but in this case only on the simpler $R$ matrix. The QR decomposition can be found using the $qr()$ function in NumPy. The calculation of the coefficients in NumPy looks as follows:\n",
    "<br>\n",
    "QR decomposition:\n",
    "<br>\n",
    "Q, R = qr(X)\n",
    "<br>\n",
    "b = inv(R).dot(Q.T).dot(y)"
   ]
  },
  {
   "cell_type": "code",
   "execution_count": 4,
   "metadata": {},
   "outputs": [
    {
     "name": "stdout",
     "output_type": "stream",
     "text": [
      "[1.00233226]\n"
     ]
    },
    {
     "data": {
      "image/png": "[encoded data removed]",
      "text/plain": [
       "<matplotlib.figure.Figure at 0x2b270a8fc50>"
      ]
     },
     "metadata": {},
     "output_type": "display_data"
    }
   ],
   "source": [
    "# QR decomposition solution to linear least squares\n",
    "from numpy import array\n",
    "from numpy.linalg import inv\n",
    "from numpy.linalg import qr\n",
    "from matplotlib import pyplot\n",
    "# define dataset\n",
    "data = array([\n",
    "[0.05, 0.12],\n",
    "[0.18, 0.22],\n",
    "[0.31, 0.35],\n",
    "[0.42, 0.38],\n",
    "[0.5, 0.49]])\n",
    "# split into inputs and outputs\n",
    "X, y = data[:,0], data[:,1]\n",
    "X = X.reshape((len(X), 1))\n",
    "# factorize\n",
    "Q, R = qr(X)\n",
    "b = inv(R).dot(Q.T).dot(y)\n",
    "print(b)\n",
    "# predict using coefficients\n",
    "yhat = X.dot(b)\n",
    "# plot data and predictions\n",
    "pyplot.scatter(X, y)\n",
    "pyplot.plot(X, yhat, color='red')\n",
    "pyplot.show()"
   ]
  },
  {
   "cell_type": "markdown",
   "metadata": {},
   "source": [
    "The QR decomposition approach is more computationally efficient and more numerically stable than calculating the normal equation directly, but does not work for all data matrices."
   ]
  },
  {
   "cell_type": "markdown",
   "metadata": {},
   "source": [
    "# 6. Solve via SVD and Pseudoinverse"
   ]
  },
  {
   "cell_type": "markdown",
   "metadata": {},
   "source": [
    "The Singular-Value Decomposition, or SVD for short, is a matrix decomposition method like the QR decomposition.\n",
    "<br><br>\n",
    "\\begin{equation*}\n",
    " X  = U \\cdot \\Sigma \\cdot V^{T}\n",
    "\\end{equation*}\n",
    "<br>\n",
    "* Where $A$ is the real $n \\times m$ matrix that we wish to decompose, $U$ is a $m \\times m$ matrix, $\\Sigma$ (often represented by the uppercase Greek letter Sigma) is an $m \\times n$ diagonal matrix, and $V^{T}$ is the transpose of an $n \\times n$ matrix.\n",
    "* Unlike the QR decomposition, all matrices have a singular-value decomposition.\n",
    "* As a basis for solving the system of linear equations for linear regression, SVD is more stable and the preferred approach.\n",
    "* Once decomposed, the coefficients can be found by calculating the pseudoinverse of the input matrix $X$ and multiplying that by the output vector $y$.\n",
    "<br><br>\n",
    "\\begin{equation*}\n",
    " b  = X^{+} \\cdot y\n",
    "\\end{equation*}\n",
    "<br><br>\n",
    "Where the pseudoinverse $X^{+}$ is calculated as following:\n",
    "<br><br>\n",
    "\\begin{equation*}\n",
    " X^{+}  = U \\cdot D^{+} \\cdot V^{T}\n",
    "\\end{equation*}\n",
    "<br>\n",
    "Where $X^{+}$ is the pseudoinverse of $X$ and the $+$ is a superscript, $D^{+}$ is the pseudoinverse of the diagonal matrix $\\Sigma$ and $V^{T}$ is the transpose of $V$ . NumPy provides the function pinv() to calculate the pseudoinverse directly. The complete example is listed below."
   ]
  },
  {
   "cell_type": "code",
   "execution_count": 5,
   "metadata": {},
   "outputs": [
    {
     "name": "stdout",
     "output_type": "stream",
     "text": [
      "[1.00233226]\n"
     ]
    },
    {
     "data": {
      "image/png": "[encoded data removed]",
      "text/plain": [
       "<matplotlib.figure.Figure at 0x2b270b39f60>"
      ]
     },
     "metadata": {},
     "output_type": "display_data"
    }
   ],
   "source": [
    "# SVD solution via pseudoinverse to linear least squares\n",
    "from numpy import array\n",
    "from numpy.linalg import pinv\n",
    "from matplotlib import pyplot\n",
    "# define dataset\n",
    "data = array([\n",
    "[0.05, 0.12],\n",
    "[0.18, 0.22],\n",
    "[0.31, 0.35],\n",
    "[0.42, 0.38],\n",
    "[0.5, 0.49]])\n",
    "# split into inputs and outputs\n",
    "X, y = data[:,0], data[:,1]\n",
    "X = X.reshape((len(X), 1))\n",
    "# calculate coefficients\n",
    "b = pinv(X).dot(y)\n",
    "print(b)\n",
    "# predict using coefficients\n",
    "yhat = X.dot(b)\n",
    "# plot data and predictions\n",
    "pyplot.scatter(X, y)\n",
    "pyplot.plot(X, yhat, color='red')\n",
    "pyplot.show()"
   ]
  },
  {
   "cell_type": "markdown",
   "metadata": {},
   "source": [
    "# 7. Solve via Convenience Function"
   ]
  },
  {
   "cell_type": "markdown",
   "metadata": {},
   "source": [
    "* The pseudoinverse via SVD approach to solving linear least squares is the de facto standard. This is because it is stable and works with most datasets.\n",
    "* NumPy provides a convenience function named $lstsq()$ that solves the linear least squares function using the SVD approach.\n",
    "* The function takes as input the $X$ matrix and $y$ vector and returns the $b$ coefficients as well as residual errors, the rank of the provided $X$ matrix and the singular values.\n",
    "The example below demonstrate the $lstsq()$ function on the test dataset."
   ]
  },
  {
   "cell_type": "code",
   "execution_count": 6,
   "metadata": {},
   "outputs": [
    {
     "name": "stdout",
     "output_type": "stream",
     "text": [
      "[1.00233226]\n"
     ]
    },
    {
     "name": "stderr",
     "output_type": "stream",
     "text": [
      "C:\\Users\\KRISHNA\\Anaconda3\\lib\\site-packages\\ipykernel_launcher.py:16: FutureWarning: `rcond` parameter will change to the default of machine precision times ``max(M, N)`` where M and N are the input matrix dimensions.\n",
      "To use the future default and silence this warning we advise to pass `rcond=None`, to keep using the old, explicitly pass `rcond=-1`.\n",
      "  app.launch_new_instance()\n"
     ]
    },
    {
     "data": {
      "image/png": "[encoded data removed]",
      "text/plain": [
       "<matplotlib.figure.Figure at 0x2b270b8ca20>"
      ]
     },
     "metadata": {},
     "output_type": "display_data"
    }
   ],
   "source": [
    "# least squares via convenience function\n",
    "from numpy import array\n",
    "from numpy.linalg import lstsq\n",
    "from matplotlib import pyplot\n",
    "# define dataset\n",
    "data = array([\n",
    "[0.05, 0.12],\n",
    "[0.18, 0.22],\n",
    "[0.31, 0.35],\n",
    "[0.42, 0.38],\n",
    "[0.5, 0.49]])\n",
    "# split into inputs and outputs\n",
    "X, y = data[:,0], data[:,1]\n",
    "X = X.reshape((len(X), 1))\n",
    "# calculate coefficients\n",
    "b, residuals, rank, s = lstsq(X, y)\n",
    "print(b)\n",
    "# predict using coefficients\n",
    "yhat = X.dot(b)\n",
    "# plot data and predictions\n",
    "pyplot.scatter(X, y)\n",
    "pyplot.plot(X, yhat, color='red')\n",
    "pyplot.show()"
   ]
  },
  {
   "cell_type": "code",
   "execution_count": null,
   "metadata": {
    "collapsed": true
   },
   "outputs": [],
   "source": []
  }
 ],
 "metadata": {
  "kernelspec": {
   "display_name": "Python 3",
   "language": "python",
   "name": "python3"
  },
  "language_info": {
   "codemirror_mode": {
    "name": "ipython",
    "version": 3
   },
   "file_extension": ".py",
   "mimetype": "text/x-python",
   "name": "python",
   "nbconvert_exporter": "python",
   "pygments_lexer": "ipython3",
   "version": "3.5.3"
  }
 },
 "nbformat": 4,
 "nbformat_minor": 2
}
